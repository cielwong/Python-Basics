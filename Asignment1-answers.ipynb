{
 "cells": [
  {
   "cell_type": "markdown",
   "metadata": {},
   "source": [
    "### Questions Part A (60 pts)"
   ]
  },
  {
   "cell_type": "markdown",
   "metadata": {},
   "source": [
    "**1.** Find the statistical mean of 10 survey respondents’ ages. The ages are 18, 21, 19, 52, 6, 33, 15, 46, 72, and 25."
   ]
  },
  {
   "cell_type": "code",
   "execution_count": 1,
   "metadata": {},
   "outputs": [
    {
     "data": {
      "text/plain": [
       "30.7"
      ]
     },
     "execution_count": 1,
     "metadata": {},
     "output_type": "execute_result"
    }
   ],
   "source": [
    "numbers=[18, 21, 19, 52, 6, 33, 15, 46, 72, 25]\n",
    "sum(numbers)/len(numbers)"
   ]
  },
  {
   "cell_type": "markdown",
   "metadata": {},
   "source": [
    "**2.** Find the value of x using these details:  "
   ]
  },
  {
   "cell_type": "raw",
   "metadata": {},
   "source": [
    "x = y + (a * b / c)  \n",
    "y = a + 151  \n",
    "b = c * (144 + y)  \n",
    "y = 10 ; c = 7"
   ]
  },
  {
   "cell_type": "code",
   "execution_count": 2,
   "metadata": {},
   "outputs": [
    {
     "name": "stdout",
     "output_type": "stream",
     "text": [
      "-21704.0\n"
     ]
    }
   ],
   "source": [
    "y = 10 ; c = 7\n",
    "b = c * (144 + y) \n",
    "a = y - 151  \n",
    "x = y + (a * b / c)\n",
    "print(x)"
   ]
  },
  {
   "cell_type": "markdown",
   "metadata": {},
   "source": [
    "**3.** Write a program where First Name and Last Name are defined as variables, and your full name and email address is printed. The email adress is \"First Name\".\"Last name\"@pace.edu. Ex. for me, the output should read:"
   ]
  },
  {
   "cell_type": "raw",
   "metadata": {},
   "source": [
    "    Yegin Genc <yegin.genc@pace.edu>"
   ]
  },
  {
   "cell_type": "code",
   "execution_count": 3,
   "metadata": {},
   "outputs": [
    {
     "name": "stdout",
     "output_type": "stream",
     "text": [
      "Yegin Genc <yegin.genc@pace.edu>\n"
     ]
    }
   ],
   "source": [
    "f_name='Yegin'\n",
    "l_name='Genc'\n",
    "email='<'+f_name.lower()+'.'+l_name.lower()+'@pace.edu>'  #.lower() is optional\n",
    "print(f_name, l_name, email)"
   ]
  },
  {
   "cell_type": "markdown",
   "metadata": {},
   "source": [
    "**4.**  **A.** Write a program that converts any fahrenheit value to celsius.  \n",
    "    **B** Write a program that converts any celsius value to fahrenheit.\n",
    "    \n",
    "  $$C=\\frac{F-32}{1.8}$$"
   ]
  },
  {
   "cell_type": "code",
   "execution_count": 4,
   "metadata": {},
   "outputs": [
    {
     "name": "stdout",
     "output_type": "stream",
     "text": [
      "enter fahrenheit32\n",
      "0.0\n"
     ]
    }
   ],
   "source": [
    "fn=input('enter fahrenheit')\n",
    "fn=float(fn)\n",
    "cl=(fn-32)/1.8 \n",
    "print(cl)"
   ]
  },
  {
   "cell_type": "code",
   "execution_count": 5,
   "metadata": {},
   "outputs": [
    {
     "name": "stdout",
     "output_type": "stream",
     "text": [
      "enter celcius40\n",
      "104.0\n"
     ]
    }
   ],
   "source": [
    "cl=input('enter celcius')\n",
    "cl=float(cl)\n",
    "fn=1.8*cl + 32\n",
    "print(fn)"
   ]
  },
  {
   "cell_type": "markdown",
   "metadata": {},
   "source": [
    "**5.** Calculate the amount of coins to be returned as change in a vending machine. Write a program where the amount of change to be returned will be input as a variable. The program will then tell the exact number of quarters, dimes, nickles and pennies to be dispensed. The machine can return only coins (quarters ,dimes, nickles and pennies) and it should return minimum number of coins possible ( it shouldn't dispense 5 pennies instead of a nickle). For example if the change is 41 cents, the output should read:  1 quarter(s), 1 dime(s), 1 nickle(s), and 1 pennies."
   ]
  },
  {
   "cell_type": "code",
   "execution_count": 6,
   "metadata": {},
   "outputs": [
    {
     "name": "stdout",
     "output_type": "stream",
     "text": [
      "2 0 0 2\n"
     ]
    }
   ],
   "source": [
    "change=52\n",
    "\n",
    "qrts=change//25\n",
    "rmd=change%25\n",
    "dimes=rmd//10\n",
    "rmd=rmd%10\n",
    "nickles=rmd//5\n",
    "penny=rmd%5\n",
    "print(qrts, dimes, nickles, penny)"
   ]
  },
  {
   "cell_type": "markdown",
   "metadata": {},
   "source": [
    "**6**. In many jurisdictions a small deposit is added to drink containers to encourage people to recycle them. In one particular jurisdiction, drink containers holding one liter or less have a \\$0.10 deposit, and drink containers holding more than one liter have a \\$0.25 deposit. Write a program that reads the number of containers of each size from the user as variables. Your program should continue by computing and displaying the refund that will be received for returning those containers. "
   ]
  },
  {
   "cell_type": "code",
   "execution_count": 7,
   "metadata": {},
   "outputs": [
    {
     "name": "stdout",
     "output_type": "stream",
     "text": [
      "enter # of bottles  1 lt. or less10\n",
      "enter # of bottles bigger than 1 lt.30\n",
      "total deposit is  8.5 dollars\n"
     ]
    }
   ],
   "source": [
    "small=input('enter # of bottles  1 lt. or less')\n",
    "s_deposit=int(small)*0.1\n",
    "\n",
    "large=input('enter # of bottles bigger than 1 lt.')\n",
    "l_deposit= int(large)*0.25\n",
    "\n",
    "total=s_deposit+l_deposit\n",
    "print( 'total deposit is ', total, 'dollars')"
   ]
  },
  {
   "cell_type": "markdown",
   "metadata": {},
   "source": [
    "### Questions Part B (40 pts)\n",
    "\n",
    "Pick 2 questions out of 5. Each question is 20 pts"
   ]
  },
  {
   "cell_type": "markdown",
   "metadata": {},
   "source": [
    "**1**. Write a program that reads an integer as a variable. Then your program should display a message indicating whether the integer is even or odd."
   ]
  },
  {
   "cell_type": "code",
   "execution_count": 8,
   "metadata": {},
   "outputs": [
    {
     "name": "stdout",
     "output_type": "stream",
     "text": [
      "enter an integer9\n",
      "Odd\n"
     ]
    }
   ],
   "source": [
    "val=int(input('enter an integer'))\n",
    "\n",
    "if val%2==0:\n",
    "    print('Even')\n",
    "else: \n",
    "    print('Odd')"
   ]
  },
  {
   "cell_type": "markdown",
   "metadata": {},
   "source": [
    "**2.** It is commonly said that one human year is equivalent to 7 dog years. However this simple conversion fails to recognize that dogs reach adulthood in approximately two years. As a result, some people believe that it is better to count each of the first two human years as 10.5 dog years, and then count each additional human year as 4 dog years. \n",
    "\n",
    "Write a program that implements the conversion from human years (input as a variable) to dog years described in the previous paragraph. Ensure that your program works correctly for conversions of less than two human years and for conversions of two or more human years. Your program should display an appropriate error message if the user enters a negative number."
   ]
  },
  {
   "cell_type": "code",
   "execution_count": 9,
   "metadata": {},
   "outputs": [
    {
     "name": "stdout",
     "output_type": "stream",
     "text": [
      "enter human years14\n",
      "69.0\n"
     ]
    }
   ],
   "source": [
    "human_years=float(input('enter human years'))\n",
    "\n",
    "if human_years>2: \n",
    "    puppy_years=2\n",
    "    adult_years= human_years-2\n",
    "    \n",
    "else:\n",
    "    puppy_years=human_years\n",
    "    adult_years=0\n",
    "    \n",
    "dog_years=10.5*puppy_years+4*adult_years\n",
    "\n",
    "print(dog_years)"
   ]
  },
  {
   "cell_type": "markdown",
   "metadata": {},
   "source": [
    "**3**. Most years have 365 days. However, the time required for the Earth to orbit the Sun is actually slightly more than that. As a result, an extra day, February 29, is included in some years to correct for this difference. Such years are referred to as leap years. The rules for determining whether or not a year is a leap year follow:  \n",
    "\n",
    "- Any year that is divisible by *400* is a leap year. \n",
    "- Of the remaining years, any year that is divisible by *100* is not a leap year. \n",
    "- Of the remaining years, any year that is divisible by 4 is a leap year. \n",
    "- All other years are not leap years.  \n",
    "\n",
    "Write a program that reads a year as a variable and displays a message indicating whether or not it is a leap year"
   ]
  },
  {
   "cell_type": "code",
   "execution_count": 10,
   "metadata": {},
   "outputs": [
    {
     "name": "stdout",
     "output_type": "stream",
     "text": [
      "enter year2100\n",
      "False\n"
     ]
    }
   ],
   "source": [
    "year=int(input('enter year'))\n",
    "leap_year=False\n",
    "if year % 400==0:\n",
    "    leap_year=True\n",
    "elif year %100==0:\n",
    "    leap_year=False\n",
    "elif year %4==0:\n",
    "    leap_year=True\n",
    "    \n",
    "print(leap_year)"
   ]
  },
  {
   "attachments": {},
   "cell_type": "markdown",
   "metadata": {
    "collapsed": true
   },
   "source": [
    "**4.** Positions on a chess board are identified by a letter and a number. The letter identifies the column, while the number identifies the row, as shown below:  \n",
    "<div  style=\"width: 200px; align:center\"> \n",
    "<center>\n",
    "![image.png](attachment:image.png)\n",
    "</center>\n",
    "</div>\n",
    "Write a program that reads a position from the user as a variable. Use an if statement to determine if the column begins with a black square or a white square. Then use modular arithmetic to report the color of the square in that row. For example, if the user enters a1 then your program should report that the square is black. If the user enters d5 then your program should report that the square is white. Your program may assume that a valid position will always be entered."
   ]
  },
  {
   "cell_type": "code",
   "execution_count": 11,
   "metadata": {},
   "outputs": [
    {
     "name": "stdout",
     "output_type": "stream",
     "text": [
      "enter a to h: d\n",
      "enter 1 to 8: 5\n",
      "light\n"
     ]
    }
   ],
   "source": [
    "col_val=input('enter a to h: ')\n",
    "row_val=input('enter 1 to 8: ')\n",
    "\n",
    "col_numeric=0\n",
    "if col_val=='a' or col_val=='c' or col_val=='e' or col_val=='g':\n",
    "    col_numeric=1\n",
    "    \n",
    "row_numeric=int(row_val)%2\n",
    "\n",
    "if (row_numeric + col_numeric)%2==0:\n",
    "    print('dark')\n",
    "else: \n",
    "    print('light')"
   ]
  },
  {
   "cell_type": "markdown",
   "metadata": {},
   "source": [
    "**5**. A roulette wheel has 38 spaces on it. Of these spaces, 18 are black, 18 are red, and two are green. The green spaces are numbered 0 and 00. The red spaces are numbered 1, 3, 5, 7, 9, 12, 14, 16, 18, 19, 21, 23, 25, 27, 30 32, 34 and 36. The remaining integers between 1 and 36 are used to number the black spaces. Many different bets can be placed in roulette. We will only consider the following subset of them in this exercise: Single number (1 to 36, 0, or 00) Red versus Black Odd versus Even (Note that 0 and 00 do not pay out for even) 1 to 18 versus 19 to 36 Write a program that simulates a spin of a roulette wheel by using Python’s random number generator (the script to create a random value --roll--  is below). Display the number that was selected and all of the bets that must be payed. For example, if 13 is selected then your program should display:   \n",
    "    - The spin resulted in 13...  \n",
    "    - Pay 13  \n",
    "    - Pay Black \n",
    "    - Pay Odd \n",
    "    - Pay 1 to 18 \n",
    "\n",
    "If the simulation results in 0 or 00 then your program should display Pay 0 or Pay 00 without any further output."
   ]
  },
  {
   "cell_type": "code",
   "execution_count": 13,
   "metadata": {},
   "outputs": [],
   "source": [
    "import random\n",
    "roll=int(random.randrange(-1,36))"
   ]
  },
  {
   "cell_type": "code",
   "execution_count": 14,
   "metadata": {},
   "outputs": [
    {
     "name": "stdout",
     "output_type": "stream",
     "text": [
      "The spin resulted in 30 ...\n",
      "Pay 30\n",
      "Pay Red\n",
      "Pay Even\n",
      "Pay 19 to 36\n"
     ]
    }
   ],
   "source": [
    "roll=int(random.randrange(-1,36))\n",
    "if roll==0 :\n",
    "    print('Pay 0')\n",
    "elif roll==-1:\n",
    "    print('Pay 00')\n",
    "else:\n",
    "    \n",
    "    color=''\n",
    "    odd_even=''\n",
    "    one_to_eighteen=''\n",
    "\n",
    "    \n",
    "    if roll%2==0:\n",
    "        odd_even='Even'\n",
    "    else:\n",
    "         odd_even='Odd'\n",
    "            \n",
    "    if roll <19:\n",
    "        one_to_eighteen='1 to 18'\n",
    "    else:\n",
    "        one_to_eighteen='19 to 36'\n",
    "        \n",
    "    \n",
    "    \n",
    "   ## In number ranges from 1 to 10 and 19 to 29, odd numbers are red \n",
    "   ## In ranges from 12 to 18 and 30 to 36 even numbers are red \n",
    "   ## Any other number is black\n",
    "        \n",
    "    if (odd_even=='Odd' and  (1<=roll<=10 or 19<=roll<=27 ) ) :\n",
    "        color='Red'\n",
    "    elif (odd_even=='Even' and  (12<=roll<=18 or 30<=roll<=36 ) ) :\n",
    "        color='Red'\n",
    "    else:\n",
    "        color='Black'\n",
    "        \n",
    "\n",
    "    print('The spin resulted in', roll, '...' )\n",
    "    print('Pay', roll)\n",
    "    print('Pay', color)\n",
    "    print('Pay', odd_even)\n",
    "    print('Pay', one_to_eighteen)\n"
   ]
  }
 ],
 "metadata": {
  "kernelspec": {
   "display_name": "Python 3",
   "language": "python",
   "name": "python3"
  },
  "language_info": {
   "codemirror_mode": {
    "name": "ipython",
    "version": 3
   },
   "file_extension": ".py",
   "mimetype": "text/x-python",
   "name": "python",
   "nbconvert_exporter": "python",
   "pygments_lexer": "ipython3",
   "version": "3.6.8"
  }
 },
 "nbformat": 4,
 "nbformat_minor": 2
}
