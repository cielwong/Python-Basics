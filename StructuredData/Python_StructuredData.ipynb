{
 "cells": [
  {
   "cell_type": "markdown",
   "metadata": {},
   "source": [
    "# Structured Data"
   ]
  },
  {
   "cell_type": "markdown",
   "metadata": {},
   "source": [
    "## 1 - Lists"
   ]
  },
  {
   "cell_type": "code",
   "execution_count": 1,
   "metadata": {
    "scrolled": true
   },
   "outputs": [
    {
     "name": "stdout",
     "output_type": "stream",
     "text": [
      "['Rock', 'Paper', 'Scissors', 'Lizard', 'Spock']\n"
     ]
    }
   ],
   "source": [
    "game = ['Rock','Paper', 'Scissors', 'Lizard', 'Spock']\n",
    "print(game)"
   ]
  },
  {
   "cell_type": "code",
   "execution_count": 2,
   "metadata": {},
   "outputs": [
    {
     "name": "stdout",
     "output_type": "stream",
     "text": [
      "['Paper', 'Scissors']\n",
      "['Rock', 'Paper', 'Scissors', 'Lizard', 'Spock']\n"
     ]
    }
   ],
   "source": [
    "## slicing a list. Will talk more about it in a momment\n",
    "game = ['Rock','Paper', 'Scissors', 'Lizard', 'Spock']\n",
    "print(game[1:3])\n",
    "print(game)"
   ]
  },
  {
   "cell_type": "markdown",
   "metadata": {},
   "source": [
    "### Get the index value of an item"
   ]
  },
  {
   "cell_type": "code",
   "execution_count": 41,
   "metadata": {},
   "outputs": [
    {
     "name": "stdout",
     "output_type": "stream",
     "text": [
      "1\n",
      "Paper\n",
      "['Rock', 'Paper', 'Scissors', 'Lizard', 'Spock']\n"
     ]
    }
   ],
   "source": [
    "\n",
    "game = ['Rock','Paper', 'Scissors', 'Lizard', 'Spock']\n",
    "i = game.index('Paper')\n",
    "print(i)\n",
    "print(game[i])\n",
    "print(game)"
   ]
  },
  {
   "cell_type": "markdown",
   "metadata": {},
   "source": [
    "### Append to the END of a list "
   ]
  },
  {
   "cell_type": "code",
   "execution_count": 5,
   "metadata": {},
   "outputs": [
    {
     "name": "stdout",
     "output_type": "stream",
     "text": [
      "['Rock', 'Paper', 'Scissors', 'Lizard', 'Spock', 'Computer']\n"
     ]
    }
   ],
   "source": [
    "game.append('Computer')\n",
    "print(game)"
   ]
  },
  {
   "cell_type": "markdown",
   "metadata": {},
   "source": [
    "### Insert an item into a particular location using index"
   ]
  },
  {
   "cell_type": "code",
   "execution_count": 6,
   "metadata": {},
   "outputs": [
    {
     "name": "stdout",
     "output_type": "stream",
     "text": [
      "['Computer', 'Rock', 'Paper', 'Scissors', 'Lizard', 'Spock']\n"
     ]
    }
   ],
   "source": [
    "game = ['Rock','Paper', 'Scissors', 'Lizard', 'Spock']\n",
    "i = game.index('Paper')\n",
    "game.insert(0,'Computer')\n",
    "print(game)"
   ]
  },
  {
   "cell_type": "markdown",
   "metadata": {},
   "source": [
    "### Remove by value"
   ]
  },
  {
   "cell_type": "code",
   "execution_count": 43,
   "metadata": {},
   "outputs": [
    {
     "name": "stdout",
     "output_type": "stream",
     "text": [
      "['Rock', 'Scissors', 'Lizard', 'Spock']\n"
     ]
    }
   ],
   "source": [
    "game = ['Rock','Paper', 'Scissors', 'Lizard', 'Spock']\n",
    "game.remove('Paper')\n",
    "print(game)"
   ]
  },
  {
   "cell_type": "markdown",
   "metadata": {},
   "source": [
    "### Remove the last element "
   ]
  },
  {
   "cell_type": "code",
   "execution_count": 39,
   "metadata": {},
   "outputs": [
    {
     "name": "stdout",
     "output_type": "stream",
     "text": [
      "['Rock', 'Paper', 'Scissors', 'Lizard']\n"
     ]
    }
   ],
   "source": [
    "\n",
    "game = ['Rock','Paper', 'Scissors', 'Lizard', 'Spock']\n",
    "game.pop()\n",
    "print(game)"
   ]
  },
  {
   "cell_type": "code",
   "execution_count": 40,
   "metadata": {},
   "outputs": [
    {
     "name": "stdout",
     "output_type": "stream",
     "text": [
      "Spock\n",
      "['Rock', 'Paper', 'Scissors', 'Lizard']\n"
     ]
    }
   ],
   "source": [
    "\n",
    "game = ['Rock','Paper', 'Scissors', 'Lizard', 'Spock']\n",
    "x = game.pop()\n",
    "print(x)\n",
    "print(game)"
   ]
  },
  {
   "cell_type": "markdown",
   "metadata": {},
   "source": [
    "### Remove (delete) by index number"
   ]
  },
  {
   "cell_type": "code",
   "execution_count": 30,
   "metadata": {},
   "outputs": [
    {
     "name": "stdout",
     "output_type": "stream",
     "text": [
      "Rock Paper Scissors Spock \n"
     ]
    }
   ],
   "source": [
    "game = ['Rock','Paper', 'Scissors', 'Lizard', 'Spock']\n",
    "del game[3]\n",
    "print_list(game)"
   ]
  },
  {
   "cell_type": "markdown",
   "metadata": {},
   "source": [
    "## Silicing data"
   ]
  },
  {
   "cell_type": "code",
   "execution_count": 62,
   "metadata": {},
   "outputs": [
    {
     "name": "stdout",
     "output_type": "stream",
     "text": [
      "game[0:3] returns: \t ['Rock', 'Paper', 'Scissors']\n",
      "game[0] returns: \t Rock\n",
      "game[0:1] returns: \t ['Rock']\n",
      "game[0:3][0] returns: \t Rock\n"
     ]
    }
   ],
   "source": [
    "game = ['Rock','Paper', 'Scissors', 'Lizard', 'Spock']\n",
    "print('game[0:3] returns: \\t' , game[0:3])\n",
    "print('game[0] returns: \\t' , game[0])\n",
    "print('game[0:1] returns: \\t', game[0:1])\n",
    "print('game[0:3][0] returns: \\t', game[0:3][0])\n"
   ]
  },
  {
   "cell_type": "markdown",
   "metadata": {},
   "source": [
    "### Joining values of a list of string"
   ]
  },
  {
   "cell_type": "code",
   "execution_count": 67,
   "metadata": {},
   "outputs": [
    {
     "name": "stdout",
     "output_type": "stream",
     "text": [
      "Rock,Paper,Scissors,Lizard,Spock\n",
      "Rock, Paper, Scissors, Lizard, Spock\n"
     ]
    }
   ],
   "source": [
    "game = ['Rock','Paper', 'Scissors', 'Lizard', 'Spock']\n",
    "print(','.join(game))\n",
    "print(', '.join(game))"
   ]
  },
  {
   "cell_type": "markdown",
   "metadata": {},
   "source": [
    "### Get list size"
   ]
  },
  {
   "cell_type": "code",
   "execution_count": 63,
   "metadata": {},
   "outputs": [
    {
     "name": "stdout",
     "output_type": "stream",
     "text": [
      "5\n"
     ]
    }
   ],
   "source": [
    "game = ['Rock','Paper', 'Scissors', 'Lizard', 'Spock']\n",
    "print(len(game))"
   ]
  },
  {
   "cell_type": "markdown",
   "metadata": {},
   "source": [
    "## 2 - Dictionaries"
   ]
  },
  {
   "cell_type": "code",
   "execution_count": 50,
   "metadata": {},
   "outputs": [
    {
     "name": "stdout",
     "output_type": "stream",
     "text": [
      "{'kitten': 'meow'}\n"
     ]
    }
   ],
   "source": [
    "animals = {'kitten':'meow'}\n",
    "print(animals)"
   ]
  },
  {
   "cell_type": "code",
   "execution_count": 74,
   "metadata": {},
   "outputs": [
    {
     "name": "stdout",
     "output_type": "stream",
     "text": [
      "{'kitten': 'meow', 'puppy': 'ruff', 'lion': 'grrr', 'giraffe': 'I am a giraffe!', 'dragon': 'rawr'}\n"
     ]
    }
   ],
   "source": [
    "animals = {'kitten':'meow','puppy':'ruff','lion':'grrr',\n",
    "           'giraffe':'I am a giraffe!','dragon':'rawr'}\n",
    "print(animals)"
   ]
  },
  {
   "cell_type": "code",
   "execution_count": 76,
   "metadata": {},
   "outputs": [
    {
     "name": "stdout",
     "output_type": "stream",
     "text": [
      "kitten says meow\n",
      "puppy says ruff\n",
      "lion says grrr\n",
      "giraffe says I am a giraffe!\n",
      "dragon says rawr\n"
     ]
    }
   ],
   "source": [
    "#animals = dict([('kitten', 'meow'), ('puppy', 'ruff')])\n",
    "animals = dict(kitten='meow',puppy='ruff',lion='grrr',\n",
    "               giraffe='I am a giraffe!',dragon='rawr')\n",
    "\n",
    "\n",
    "for k,v in animals.items():\n",
    "    print( '{} says {}'.format(k,v))"
   ]
  },
  {
   "cell_type": "code",
   "execution_count": 80,
   "metadata": {},
   "outputs": [
    {
     "name": "stdout",
     "output_type": "stream",
     "text": [
      "grrr\n"
     ]
    }
   ],
   "source": [
    "## What does the lion say ? \n",
    "animals = {'kitten':'meow','puppy':'ruff','lion':'grrr',\n",
    "           'giraffe':'I am a giraffe!','dragon':'rawr'}\n",
    "print(animals['lion'])"
   ]
  },
  {
   "cell_type": "markdown",
   "metadata": {},
   "source": [
    "### Updating a value"
   ]
  },
  {
   "cell_type": "code",
   "execution_count": 81,
   "metadata": {},
   "outputs": [
    {
     "name": "stdout",
     "output_type": "stream",
     "text": [
      "kitten says meow\n",
      "puppy says ruff\n",
      "lion says I am a lion\n",
      "giraffe says I am a giraffe!\n",
      "dragon says rawr\n"
     ]
    }
   ],
   "source": [
    "animals = {'kitten':'meow','puppy':'ruff','lion':'grrr',\n",
    "           'giraffe':'I am a giraffe!','dragon':'rawr'}\n",
    "animals['lion']= 'I am a lion'\n",
    "for k, v in animals.items():\n",
    "    print('{} says {}'.format(k, v))"
   ]
  },
  {
   "cell_type": "markdown",
   "metadata": {},
   "source": [
    "### Dictionary keys and values"
   ]
  },
  {
   "cell_type": "code",
   "execution_count": 82,
   "metadata": {},
   "outputs": [
    {
     "name": "stdout",
     "output_type": "stream",
     "text": [
      "kitten\n",
      "puppy\n",
      "lion\n",
      "giraffe\n",
      "dragon\n"
     ]
    }
   ],
   "source": [
    "animals = {'kitten':'meow','puppy':'ruff','lion':'grrr',\n",
    "           'giraffe':'I am a giraffe!','dragon':'rawr'}\n",
    "for k in animals.keys(): \n",
    "    print(k)"
   ]
  },
  {
   "cell_type": "code",
   "execution_count": 83,
   "metadata": {},
   "outputs": [
    {
     "name": "stdout",
     "output_type": "stream",
     "text": [
      "meow\n",
      "ruff\n",
      "grrr\n",
      "I am a giraffe!\n",
      "rawr\n"
     ]
    }
   ],
   "source": [
    "animals = {'kitten':'meow','puppy':'ruff','lion':'grrr',\n",
    "           'giraffe':'I am a giraffe!','dragon':'rawr'}\n",
    "for v in animals.values(): \n",
    "    print(v)"
   ]
  },
  {
   "cell_type": "code",
   "execution_count": 88,
   "metadata": {},
   "outputs": [
    {
     "ename": "KeyError",
     "evalue": "'godzilla'",
     "output_type": "error",
     "traceback": [
      "\u001b[0;31m---------------------------------------------------------------------------\u001b[0m",
      "\u001b[0;31mKeyError\u001b[0m                                  Traceback (most recent call last)",
      "\u001b[0;32m<ipython-input-88-f5a8c60adfd0>\u001b[0m in \u001b[0;36m<module>\u001b[0;34m()\u001b[0m\n\u001b[1;32m      1\u001b[0m animals = {'kitten':'meow','puppy':'ruff',\n\u001b[1;32m      2\u001b[0m            'lion':'grrr','giraffe':'I am a giraffe!','dragon':'rawr'}\n\u001b[0;32m----> 3\u001b[0;31m \u001b[0manimals\u001b[0m\u001b[0;34m[\u001b[0m\u001b[0;34m'godzilla'\u001b[0m\u001b[0;34m]\u001b[0m\u001b[0;34m\u001b[0m\u001b[0m\n\u001b[0m",
      "\u001b[0;31mKeyError\u001b[0m: 'godzilla'"
     ]
    }
   ],
   "source": [
    "animals = {'kitten':'meow','puppy':'ruff',\n",
    "           'lion':'grrr','giraffe':'I am a giraffe!',\n",
    "           'dragon':'rawr'}\n",
    "animals['godzilla']"
   ]
  },
  {
   "cell_type": "code",
   "execution_count": 91,
   "metadata": {},
   "outputs": [
    {
     "name": "stdout",
     "output_type": "stream",
     "text": [
      "True\n",
      "False\n"
     ]
    }
   ],
   "source": [
    "#Is lion in our dictionary (as a key)? \n",
    "animals = {'kitten':'meow','puppy':'ruff','lion':'grrr','giraffe':'I am a giraffe!','dragon':'rawr'}\n",
    "print('lion' in animals)\n",
    "print('godzilla' in animals)"
   ]
  },
  {
   "cell_type": "code",
   "execution_count": 90,
   "metadata": {},
   "outputs": [
    {
     "name": "stdout",
     "output_type": "stream",
     "text": [
      "None\n"
     ]
    }
   ],
   "source": [
    "print(animals.get('godzilla'))"
   ]
  },
  {
   "cell_type": "code",
   "execution_count": 87,
   "metadata": {},
   "outputs": [
    {
     "name": "stdout",
     "output_type": "stream",
     "text": [
      "Not in dictionary\n"
     ]
    }
   ],
   "source": [
    "print(animals.get('godzilla','Not in dictionary'))"
   ]
  },
  {
   "cell_type": "code",
   "execution_count": 67,
   "metadata": {},
   "outputs": [
    {
     "name": "stdout",
     "output_type": "stream",
     "text": [
      "found!\n"
     ]
    }
   ],
   "source": [
    "animals = {'kitten':'meow','puppy':'ruff','lion':'grrr','giraffe':'I am a giraffe!','dragon':'rawr'}\n",
    "print('found!' if 'lion' in  animals else 'nope')"
   ]
  },
  {
   "cell_type": "markdown",
   "metadata": {},
   "source": [
    "## 3 - Sets"
   ]
  },
  {
   "cell_type": "code",
   "execution_count": 27,
   "metadata": {},
   "outputs": [
    {
     "name": "stdout",
     "output_type": "stream",
     "text": [
      "{'g', '.', 'r', 'e', 'o', 'd', 'n', ' ', 't', \"'\", 'a', 'b', 'i', 'W'}\n",
      "{'a', 'D', 'd', 'e', 'o', 'h', 'y', 'm', ',', 't', '.', 'r', 'n', 'I', 'c', 'i', 's', ' ', 'v', \"'\", 'f'}\n"
     ]
    }
   ],
   "source": [
    "a = set(\"We're gonna need a bigger boat.\")\n",
    "b = set(\"I'm sorry, Dave. I'm afraid I can't do that.\")\n",
    "print(a)\n",
    "print(b)"
   ]
  },
  {
   "cell_type": "code",
   "execution_count": 29,
   "metadata": {},
   "outputs": [
    {
     "name": "stdout",
     "output_type": "stream",
     "text": [
      "[' ', \"'\", '.', 'W', 'a', 'b', 'd', 'e', 'g', 'i', 'n', 'o', 'r', 't']\n",
      "[' ', \"'\", ',', '.', 'D', 'I', 'a', 'c', 'd', 'e', 'f', 'h', 'i', 'm', 'n', 'o', 'r', 's', 't', 'v', 'y']\n"
     ]
    }
   ],
   "source": [
    "a = set(\"We're gonna need a bigger boat.\")\n",
    "b = set(\"I'm sorry, Dave. I'm afraid I can't do that.\")\n",
    "print(sorted(a))\n",
    "print(sorted(b))"
   ]
  },
  {
   "cell_type": "code",
   "execution_count": 30,
   "metadata": {},
   "outputs": [
    {
     "name": "stdout",
     "output_type": "stream",
     "text": [
      "{'g', 'b', 'W'}\n",
      "{'g', 'a', 'D', 'b', 'd', 'e', 'o', 'h', 'y', 'f', 'm', ',', 't', '.', 'r', 'n', 'I', 'i', 'W', 's', ' ', 'v', \"'\", 'c'}\n",
      "{'g', 'I', 'D', 'b', 'W', 's', 'h', 'y', 'f', 'm', ',', 'v', 'c'}\n",
      "{'.', 'r', 'e', 'o', 'n', ' ', 't', \"'\", 'a', 'i', 'd'}\n"
     ]
    }
   ],
   "source": [
    "a = set(\"We're gonna need a bigger boat.\")\n",
    "b = set(\"I'm sorry, Dave. I'm afraid I can't do that.\")\n",
    "print(a - b)\n",
    "print(a | b)\n",
    "print(a ^ b)\n",
    "print(a & b)\n"
   ]
  },
  {
   "cell_type": "markdown",
   "metadata": {},
   "source": [
    "## 4 - List Comprehensions"
   ]
  },
  {
   "cell_type": "code",
   "execution_count": 92,
   "metadata": {},
   "outputs": [
    {
     "name": "stdout",
     "output_type": "stream",
     "text": [
      "range(0, 11)\n",
      "[0, 1, 2, 3, 4, 5, 6, 7, 8, 9, 10]\n"
     ]
    }
   ],
   "source": [
    "seq = range(11)\n",
    "print(seq)\n",
    "print(list(seq))\n"
   ]
  },
  {
   "cell_type": "code",
   "execution_count": null,
   "metadata": {},
   "outputs": [],
   "source": [
    "seq = range(11)"
   ]
  },
  {
   "cell_type": "code",
   "execution_count": null,
   "metadata": {},
   "outputs": [],
   "source": [
    "seq=range( 4,10)\n",
    "list(seq)"
   ]
  },
  {
   "cell_type": "code",
   "execution_count": 103,
   "metadata": {},
   "outputs": [
    {
     "data": {
      "text/plain": [
       "[2, 4, 6, 8, 10, 12, 14, 16, 18]"
      ]
     },
     "execution_count": 103,
     "metadata": {},
     "output_type": "execute_result"
    }
   ],
   "source": [
    "seq=range(2,20, 2)\n",
    "list(seq)"
   ]
  },
  {
   "cell_type": "code",
   "execution_count": 99,
   "metadata": {
    "scrolled": true
   },
   "outputs": [
    {
     "data": {
      "text/plain": [
       "[-10, -9, -8, -7, -6]"
      ]
     },
     "execution_count": 99,
     "metadata": {},
     "output_type": "execute_result"
    }
   ],
   "source": [
    "seq=range(-10,-5)\n",
    "list(seq)"
   ]
  },
  {
   "cell_type": "code",
   "execution_count": 105,
   "metadata": {},
   "outputs": [
    {
     "data": {
      "text/plain": [
       "[10, 9, 8, 7, 6]"
      ]
     },
     "execution_count": 105,
     "metadata": {},
     "output_type": "execute_result"
    }
   ],
   "source": [
    "seq=range(10, 5 ,-1)\n",
    "list(seq)"
   ]
  },
  {
   "cell_type": "markdown",
   "metadata": {},
   "source": [
    "## 5 - Mixed Structures"
   ]
  },
  {
   "cell_type": "code",
   "execution_count": 106,
   "metadata": {},
   "outputs": [
    {
     "data": {
      "text/plain": [
       "[[1, 'two', 3, {'4': 'four'}, 5],\n",
       " range(0, 11),\n",
       " {' ',\n",
       "  '!',\n",
       "  \"'\",\n",
       "  'I',\n",
       "  'S',\n",
       "  'a',\n",
       "  'b',\n",
       "  'd',\n",
       "  'e',\n",
       "  'i',\n",
       "  'l',\n",
       "  'm',\n",
       "  'n',\n",
       "  'p',\n",
       "  'r',\n",
       "  's',\n",
       "  't',\n",
       "  'u'},\n",
       " {'one': range(0, 11),\n",
       "  'two': [1, 'two', 3, {'4': 'four'}, 5],\n",
       "  'three': {' ',\n",
       "   '!',\n",
       "   \"'\",\n",
       "   'I',\n",
       "   'S',\n",
       "   'a',\n",
       "   'b',\n",
       "   'd',\n",
       "   'e',\n",
       "   'i',\n",
       "   'l',\n",
       "   'm',\n",
       "   'n',\n",
       "   'p',\n",
       "   'r',\n",
       "   's',\n",
       "   't',\n",
       "   'u'}},\n",
       " ('one', 'two', None, 'four', 'five')]"
      ]
     },
     "execution_count": 106,
     "metadata": {},
     "output_type": "execute_result"
    }
   ],
   "source": [
    "r = range(11)\n",
    "l = [ 1, 'two', 3, {'4': 'four' }, 5 ]\n",
    "t = ( 'one', 'two', None, 'four', 'five' )\n",
    "s = set(\"It's a bird! It's a plane! It's Superman!\")\n",
    "d = dict( one = r, two = l, three = s )\n",
    "mixed = [ l, r, s, d, t ]\n",
    "mixed"
   ]
  },
  {
   "cell_type": "code",
   "execution_count": null,
   "metadata": {},
   "outputs": [],
   "source": []
  }
 ],
 "metadata": {
  "kernelspec": {
   "display_name": "Python 3",
   "language": "python",
   "name": "python3"
  },
  "language_info": {
   "codemirror_mode": {
    "name": "ipython",
    "version": 3
   },
   "file_extension": ".py",
   "mimetype": "text/x-python",
   "name": "python",
   "nbconvert_exporter": "python",
   "pygments_lexer": "ipython3",
   "version": "3.7.0"
  }
 },
 "nbformat": 4,
 "nbformat_minor": 2
}
