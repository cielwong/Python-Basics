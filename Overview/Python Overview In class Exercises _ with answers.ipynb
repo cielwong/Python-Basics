{
 "cells": [
  {
   "cell_type": "markdown",
   "metadata": {},
   "source": [
    "## In Class Exercises"
   ]
  },
  {
   "cell_type": "markdown",
   "metadata": {},
   "source": [
    "### Part 1"
   ]
  },
  {
   "cell_type": "markdown",
   "metadata": {},
   "source": [
    "**1.** Write a program that reads two numbers from variables and prints their average."
   ]
  },
  {
   "cell_type": "code",
   "execution_count": 3,
   "metadata": {},
   "outputs": [
    {
     "name": "stdout",
     "output_type": "stream",
     "text": [
      "6.0\n"
     ]
    }
   ],
   "source": [
    "x= 10\n",
    "y= 2\n",
    "\n",
    "average=(x + y) / 2\n",
    "\n",
    "print(average)"
   ]
  },
  {
   "cell_type": "markdown",
   "metadata": {},
   "source": [
    "**2.** Write a program that reads First Name and Last Name from variables and combines them to a full name with the following format: \n",
    "\n",
    "Dear Firt Name Last Name,\n",
    "\n",
    "The first letters of the last name and the first name should be capitalized and the rest should be lower case. (Hint:  .title() ) "
   ]
  },
  {
   "cell_type": "code",
   "execution_count": 4,
   "metadata": {},
   "outputs": [
    {
     "data": {
      "text/plain": [
       "'Dear Yegin Genc,'"
      ]
     },
     "execution_count": 4,
     "metadata": {},
     "output_type": "execute_result"
    }
   ],
   "source": [
    "first_name='Yegin'\n",
    "last_name='Genc'\n",
    "first_line='Dear {} {},'\n",
    "first_line.format(first_name.title(), last_name.title())"
   ]
  },
  {
   "cell_type": "code",
   "execution_count": 5,
   "metadata": {},
   "outputs": [
    {
     "data": {
      "text/plain": [
       "'Dear Yegin Genc,'"
      ]
     },
     "execution_count": 5,
     "metadata": {},
     "output_type": "execute_result"
    }
   ],
   "source": [
    "f_name='Yegin'\n",
    "f_name=f_name.title()\n",
    "l_name='Genc'\n",
    "l_name=l_name.title()\n",
    "\n",
    "'Dear '+f_name+ ' '+l_name+','"
   ]
  },
  {
   "cell_type": "markdown",
   "metadata": {},
   "source": [
    "**3.** Write a program that checks if two variables are NOT equal. It should print 'Equal' if vaules are equal and 'Not Equal' otherwise "
   ]
  },
  {
   "cell_type": "code",
   "execution_count": 7,
   "metadata": {},
   "outputs": [
    {
     "name": "stdout",
     "output_type": "stream",
     "text": [
      "Equal\n"
     ]
    }
   ],
   "source": [
    "x=2\n",
    "y=2\n",
    "if (x==y):\n",
    "    print('Equal')\n",
    "else:\n",
    "    print('Not Equal')"
   ]
  },
  {
   "cell_type": "markdown",
   "metadata": {},
   "source": [
    "**4.** Write a program that checks if a variable value is greater than 10. \n",
    "- If it is, print \"may not be a prime number\"  \n",
    "- If not, check if it is divisible by 2. If it is, print \"may not be a prime number\"  \n",
    "- If not, check if it is divisible by 3. If it is, print \"may not be a prime number\"  \n",
    "- If not, check if it is less than or equal to 3. If it is, print \"may not be a prime number\"  \n",
    "- If not, check if it is an NOT integer. If it is (not an integer), print \"it is  not  a prime number\"  \n",
    "- If not, print \"must be a prime number\""
   ]
  },
  {
   "cell_type": "code",
   "execution_count": 10,
   "metadata": {},
   "outputs": [
    {
     "name": "stdout",
     "output_type": "stream",
     "text": [
      "must be a prime\n"
     ]
    }
   ],
   "source": [
    "x=7\n",
    "\n",
    "if x>10:\n",
    "    print('may not be a prime number')\n",
    "    \n",
    "elif x%2==0:\n",
    "    print( ' may not be a prime number')\n",
    "elif x%3==0:\n",
    "    print(' may not be a prime number')\n",
    "elif x<=3:\n",
    "    print('may not be a prime')\n",
    "elif type(x)!=int: \n",
    "    print('may not be an integer')\n",
    "else: \n",
    "    print('must be a prime')"
   ]
  },
  {
   "cell_type": "markdown",
   "metadata": {},
   "source": [
    "**5.** Create a list that has 3 elements. Print its values using a for loop. "
   ]
  },
  {
   "cell_type": "code",
   "execution_count": 14,
   "metadata": {},
   "outputs": [
    {
     "name": "stdout",
     "output_type": "stream",
     "text": [
      "4\n",
      "6\n",
      "7\n"
     ]
    }
   ],
   "source": [
    "my_list=[4, 6, 7]\n",
    "for i in my_list:\n",
    "    print(i)"
   ]
  },
  {
   "cell_type": "markdown",
   "metadata": {},
   "source": [
    "**6.** In the United States, fuel efficiency for vehicles is normally expressed in miles-per-gallon (MPG). In the rest of the world, fuel efficiency is normally expressed in liters-per-hundred kilometers (L/ 100   km) using metric system. Write a program that calculates MPG from two variables for distance travelled (in kilometer) and fuel consumed (in liters).  \n",
    "Hint: 1 miles= 1.6 kilometers and 1 gallon= 3.79 liters "
   ]
  },
  {
   "cell_type": "code",
   "execution_count": 17,
   "metadata": {},
   "outputs": [
    {
     "name": "stdout",
     "output_type": "stream",
     "text": [
      "10.0\n"
     ]
    }
   ],
   "source": [
    "km=16\n",
    "lt=3.79\n",
    "\n",
    "miles= km/ 1.6\n",
    "gallon= lt /3.79\n",
    "print(miles/gallon)"
   ]
  },
  {
   "cell_type": "markdown",
   "metadata": {},
   "source": [
    "**7.** Given a 3 digit-integer, print the place value of the digit in the middle (tens). For example if the value is 123, we should print 20 "
   ]
  },
  {
   "cell_type": "code",
   "execution_count": 22,
   "metadata": {},
   "outputs": [
    {
     "data": {
      "text/plain": [
       "2"
      ]
     },
     "execution_count": 22,
     "metadata": {},
     "output_type": "execute_result"
    }
   ],
   "source": [
    " x=123\n",
    "\n",
    "value= (x%100) //10\n",
    "value"
   ]
  },
  {
   "cell_type": "markdown",
   "metadata": {},
   "source": [
    "### Part 2"
   ]
  },
  {
   "cell_type": "markdown",
   "metadata": {},
   "source": [
    "**1**. Write a program that asks the user to enter his or her name. The program should respond with a message that says hello to the user, using his or her name."
   ]
  },
  {
   "cell_type": "markdown",
   "metadata": {},
   "source": [
    "**2**. Write a program that asks the user to enter the width and length of a room. Once the values have been read, your program should compute and display the area of the room. The length and the width will be entered as floating point numbers. Include units in your prompt and output message; either feet or meters, depending on which unit you are more comfortable working with."
   ]
  },
  {
   "cell_type": "markdown",
   "metadata": {},
   "source": [
    "**3**. Create a program that reads the length and width of a farmer’s field from the user in feet. Display the area of the field in acres.\n",
    "\n",
    "(Hint: There are 43,560 square feet in an acre.)"
   ]
  },
  {
   "cell_type": "markdown",
   "metadata": {},
   "source": [
    "**4**. Write a program that reads a positive integer, n , from the user and then displays the sum of all of the integers from 1 to n."
   ]
  },
  {
   "cell_type": "markdown",
   "metadata": {},
   "source": [
    "**5**.  Write a program that calculates fuel efficiency as liter/ 100 km from two variables for distance (in miles) and fuel consumed (in gallons)"
   ]
  },
  {
   "cell_type": "markdown",
   "metadata": {},
   "source": [
    "**6**. Develop a program that reads a four-digit integer from the user and displays the sum of the digits in the number. For example, if the user enters 3141 then your program should display 3  +   1   +  4  +   1  =   9.  \n",
    "Hint: Integer division (//) and remainder (%) functions could help here "
   ]
  },
  {
   "cell_type": "code",
   "execution_count": null,
   "metadata": {},
   "outputs": [],
   "source": []
  },
  {
   "cell_type": "code",
   "execution_count": null,
   "metadata": {},
   "outputs": [],
   "source": []
  }
 ],
 "metadata": {
  "kernelspec": {
   "display_name": "Python 3",
   "language": "python",
   "name": "python3"
  },
  "language_info": {
   "codemirror_mode": {
    "name": "ipython",
    "version": 3
   },
   "file_extension": ".py",
   "mimetype": "text/x-python",
   "name": "python",
   "nbconvert_exporter": "python",
   "pygments_lexer": "ipython3",
   "version": "3.6.8"
  }
 },
 "nbformat": 4,
 "nbformat_minor": 2
}
