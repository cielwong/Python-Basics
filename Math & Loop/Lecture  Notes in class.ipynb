{
 "cells": [
  {
   "cell_type": "code",
   "execution_count": 1,
   "metadata": {},
   "outputs": [],
   "source": [
    "## For loops"
   ]
  },
  {
   "cell_type": "code",
   "execution_count": 2,
   "metadata": {},
   "outputs": [],
   "source": [
    "animals=['bear','bunny','dog','cat','velociraptor']"
   ]
  },
  {
   "cell_type": "code",
   "execution_count": 3,
   "metadata": {},
   "outputs": [
    {
     "name": "stdout",
     "output_type": "stream",
     "text": [
      "bear\n",
      "bunny\n",
      "dog\n",
      "cat\n",
      "velociraptor\n"
     ]
    }
   ],
   "source": [
    "for an_animal in animals: \n",
    "       print(an_animal)               # Do something"
   ]
  },
  {
   "cell_type": "code",
   "execution_count": 5,
   "metadata": {},
   "outputs": [
    {
     "name": "stdout",
     "output_type": "stream",
     "text": [
      "bear\n",
      "bunny\n",
      "dog\n",
      "cat\n",
      "velociraptor\n"
     ]
    }
   ],
   "source": [
    "index_vals=[0, 1,2, 3, 4]\n",
    "for index in index_vals:\n",
    "    print(animals[index])"
   ]
  },
  {
   "cell_type": "code",
   "execution_count": 7,
   "metadata": {},
   "outputs": [
    {
     "name": "stdout",
     "output_type": "stream",
     "text": [
      "0 bear\n",
      "1 bunny\n",
      "2 dog\n",
      "3 cat\n",
      "4 velociraptor\n"
     ]
    }
   ],
   "source": [
    "for an_index in range(5):\n",
    "    print(an_index, animals[an_index])"
   ]
  },
  {
   "cell_type": "code",
   "execution_count": 8,
   "metadata": {},
   "outputs": [
    {
     "data": {
      "text/plain": [
       "range(0, 5)"
      ]
     },
     "execution_count": 8,
     "metadata": {},
     "output_type": "execute_result"
    }
   ],
   "source": [
    "range(5)"
   ]
  },
  {
   "cell_type": "code",
   "execution_count": 9,
   "metadata": {},
   "outputs": [
    {
     "data": {
      "text/plain": [
       "[0, 1, 2, 3, 4]"
      ]
     },
     "execution_count": 9,
     "metadata": {},
     "output_type": "execute_result"
    }
   ],
   "source": [
    "list(range(5))"
   ]
  },
  {
   "cell_type": "code",
   "execution_count": 11,
   "metadata": {},
   "outputs": [
    {
     "data": {
      "text/plain": [
       "[(0, 'bear'), (1, 'bunny'), (2, 'dog'), (3, 'cat'), (4, 'velociraptor')]"
      ]
     },
     "execution_count": 11,
     "metadata": {},
     "output_type": "execute_result"
    }
   ],
   "source": [
    "list(enumerate(animals))"
   ]
  },
  {
   "cell_type": "code",
   "execution_count": 13,
   "metadata": {},
   "outputs": [
    {
     "name": "stdout",
     "output_type": "stream",
     "text": [
      "0 bear\n",
      "1 bunny\n",
      "2 dog\n",
      "3 cat\n",
      "4 velociraptor\n"
     ]
    }
   ],
   "source": [
    "for index, value in enumerate(animals):\n",
    "    print(index, value)"
   ]
  },
  {
   "cell_type": "code",
   "execution_count": 14,
   "metadata": {},
   "outputs": [
    {
     "data": {
      "text/plain": [
       "5"
      ]
     },
     "execution_count": 14,
     "metadata": {},
     "output_type": "execute_result"
    }
   ],
   "source": [
    "## How many animals are there in the list ?\n",
    "# assume we forgot len(animals)"
   ]
  },
  {
   "cell_type": "code",
   "execution_count": 16,
   "metadata": {},
   "outputs": [
    {
     "name": "stdout",
     "output_type": "stream",
     "text": [
      "1\n",
      "2\n",
      "3\n",
      "4\n",
      "5\n",
      "there are 5 animals in the list\n"
     ]
    }
   ],
   "source": [
    "animals=['bear','bunny','dog','cat','velociraptor']\n",
    "counter=0\n",
    "\n",
    "for an_item in animals:\n",
    "    counter = counter + 1     ##  counter += 1\n",
    "    print(counter)\n",
    "\n",
    "print('there are {} animals in the list'.format(counter))"
   ]
  },
  {
   "cell_type": "code",
   "execution_count": 19,
   "metadata": {},
   "outputs": [
    {
     "data": {
      "text/plain": [
       "True"
      ]
     },
     "execution_count": 19,
     "metadata": {},
     "output_type": "execute_result"
    }
   ],
   "source": [
    "## How many of the animals start with b\n",
    "## Hint:\n",
    "# myname='yegin'\n",
    "# myname.startswith('y')"
   ]
  },
  {
   "cell_type": "code",
   "execution_count": null,
   "metadata": {},
   "outputs": [],
   "source": [
    "##  my_b_counter \n",
    "## loop through animals:\n",
    "     ## increase my_b_counter if the animal starts with  b"
   ]
  },
  {
   "cell_type": "code",
   "execution_count": 22,
   "metadata": {},
   "outputs": [
    {
     "name": "stdout",
     "output_type": "stream",
     "text": [
      "True\n",
      "True\n",
      "False\n",
      "False\n",
      "False\n",
      "there are 2 animals that starts with b\n"
     ]
    }
   ],
   "source": [
    "animals=['bear','bunny','dog','cat','velociraptor']\n",
    "my_b_counter=0\n",
    "for animal in animals: \n",
    "    print(animal.startswith('b'))\n",
    "    if animal.startswith('b')==True:\n",
    "        my_b_counter = my_b_counter + 1\n",
    "        \n",
    "print('there are {} animals that starts with b'.format(my_b_counter))"
   ]
  },
  {
   "cell_type": "code",
   "execution_count": 23,
   "metadata": {},
   "outputs": [],
   "source": [
    "animals=['bear','bunny','dog','cat','velociraptor']\n",
    "common_pets=['bird','dog','cat','fish']"
   ]
  },
  {
   "cell_type": "code",
   "execution_count": 27,
   "metadata": {},
   "outputs": [
    {
     "name": "stdout",
     "output_type": "stream",
     "text": [
      "False\n",
      "False\n",
      "True\n",
      "True\n",
      "False\n",
      "['dog', 'cat']\n"
     ]
    }
   ],
   "source": [
    "my_pets=[]\n",
    "for animal in animals:\n",
    "    print(animal in common_pets)\n",
    "    if animal in common_pets:\n",
    "        my_pets.append(animal)\n",
    "\n",
    "print(my_pets)"
   ]
  },
  {
   "cell_type": "code",
   "execution_count": null,
   "metadata": {},
   "outputs": [],
   "source": [
    "## with a for loop find the animal that has the longest name "
   ]
  },
  {
   "cell_type": "code",
   "execution_count": 32,
   "metadata": {},
   "outputs": [
    {
     "name": "stdout",
     "output_type": "stream",
     "text": [
      "bear 4 bear 4\n",
      "bunny 5 bunny 5\n",
      "dog 3 bunny 5\n",
      "cat 3 bunny 5\n",
      "velociraptor 12 velociraptor 12\n",
      "The animal with the longest name is velociraptor\n"
     ]
    }
   ],
   "source": [
    "longest_name=0                                       ## initialize some variables\n",
    "name=''                                              ##\n",
    "\n",
    "\n",
    "for animal in animals:                              ##update variables based on rules\n",
    "    if len(animal)> longest_name:                   ##in each iteration\n",
    "        longest_name=len(animal)\n",
    "        name=animal\n",
    "        \n",
    "    print(animal , len(animal),  name ,longest_name)\n",
    "\n",
    "    \n",
    "print('The animal with the longest name is {}'.format(name))    ##use final values"
   ]
  },
  {
   "cell_type": "code",
   "execution_count": 33,
   "metadata": {},
   "outputs": [],
   "source": [
    "myname='yegin'"
   ]
  },
  {
   "cell_type": "code",
   "execution_count": 36,
   "metadata": {},
   "outputs": [
    {
     "name": "stdout",
     "output_type": "stream",
     "text": [
      "John\n"
     ]
    }
   ],
   "source": [
    "myname=input()"
   ]
  },
  {
   "cell_type": "code",
   "execution_count": 39,
   "metadata": {},
   "outputs": [],
   "source": [
    "secret_password='swordfish'"
   ]
  },
  {
   "cell_type": "code",
   "execution_count": 41,
   "metadata": {},
   "outputs": [
    {
     "name": "stdout",
     "output_type": "stream",
     "text": [
      "swordfish\n",
      "access granted\n"
     ]
    }
   ],
   "source": [
    "my_try=input()\n",
    "\n",
    "if my_try == secret_password:\n",
    "    print('access granted')\n",
    "else :\n",
    "    print('wrong password')"
   ]
  },
  {
   "cell_type": "code",
   "execution_count": 42,
   "metadata": {},
   "outputs": [
    {
     "name": "stdout",
     "output_type": "stream",
     "text": [
      "test\n",
      "test2\n",
      "test\n",
      "swordfish\n"
     ]
    }
   ],
   "source": [
    "my_try=''                         ##initialize some value\n",
    "\n",
    "while my_try!=secret_password:    ## set the condition to keep the loop\n",
    "    my_try=input()                ## update the variables in each iteration\n",
    "    "
   ]
  },
  {
   "cell_type": "code",
   "execution_count": null,
   "metadata": {},
   "outputs": [],
   "source": [
    "## Show me how many times I tried my password"
   ]
  },
  {
   "cell_type": "code",
   "execution_count": 45,
   "metadata": {},
   "outputs": [
    {
     "name": "stdout",
     "output_type": "stream",
     "text": [
      "Trial number 1\n",
      "test\n",
      "Trial number 2\n",
      "test3\n",
      "Trial number 3\n",
      "swordfish\n",
      "Access granted\n"
     ]
    }
   ],
   "source": [
    "my_try=''                         \n",
    "counter=0\n",
    "\n",
    "while my_try!=secret_password:    \n",
    "    counter += 1\n",
    "    print('Trial number {}'.format(counter))\n",
    "    my_try=input()\n",
    "\n",
    "print('Access granted')"
   ]
  },
  {
   "cell_type": "code",
   "execution_count": 49,
   "metadata": {},
   "outputs": [
    {
     "name": "stdout",
     "output_type": "stream",
     "text": [
      "Trial number 1\n",
      "test\n",
      "Trial number 2\n",
      "swordfish\n",
      "Access Granted\n"
     ]
    }
   ],
   "source": [
    "my_try=''                         \n",
    "counter=0\n",
    "max_number_of_trials=3\n",
    "\n",
    "auth=False\n",
    "\n",
    "while my_try!=secret_password:    \n",
    "    counter += 1\n",
    "   \n",
    "    if counter > max_number_of_trials:   ##Out of the loop if this is true\n",
    "            auth=False\n",
    "            break\n",
    "    \n",
    "    print('Trial number {}'.format(counter))\n",
    "    my_try=input()\n",
    "\n",
    "else:\n",
    "    auth=True\n",
    "\n",
    "if auth:\n",
    "    print('Access Granted')\n",
    "else: \n",
    "    print('too many trials')"
   ]
  },
  {
   "cell_type": "markdown",
   "metadata": {},
   "source": [
    "## Math Functions"
   ]
  },
  {
   "cell_type": "code",
   "execution_count": 50,
   "metadata": {},
   "outputs": [],
   "source": [
    "import math"
   ]
  },
  {
   "cell_type": "code",
   "execution_count": 51,
   "metadata": {},
   "outputs": [
    {
     "data": {
      "text/plain": [
       "3.141592653589793"
      ]
     },
     "execution_count": 51,
     "metadata": {},
     "output_type": "execute_result"
    }
   ],
   "source": [
    "`math.pi\n",
    "\n",
    "math.e\n",
    "\n",
    "math.nan\n",
    "\n",
    "math.inf\n",
    "\n",
    "-math.inf"
   ]
  },
  {
   "cell_type": "code",
   "execution_count": 56,
   "metadata": {},
   "outputs": [],
   "source": [
    "cookies= 10.3\n",
    "candy =7.1\n",
    "\n",
    "math.floor(cookies)\n",
    "\n",
    "math.ceil(candy)\n",
    "\n",
    "math.sqrt(64)\n",
    "\n",
    "math.factorial(5)"
   ]
  },
  {
   "cell_type": "markdown",
   "metadata": {},
   "source": [
    "## Random"
   ]
  },
  {
   "cell_type": "code",
   "execution_count": 67,
   "metadata": {},
   "outputs": [],
   "source": [
    "import random"
   ]
  },
  {
   "cell_type": "code",
   "execution_count": 76,
   "metadata": {},
   "outputs": [
    {
     "data": {
      "text/plain": [
       "4"
      ]
     },
     "execution_count": 76,
     "metadata": {},
     "output_type": "execute_result"
    }
   ],
   "source": [
    "random.randint(1,7)"
   ]
  },
  {
   "cell_type": "code",
   "execution_count": 77,
   "metadata": {},
   "outputs": [
    {
     "name": "stdout",
     "output_type": "stream",
     "text": [
      "3\n",
      "2\n",
      "6\n",
      "3\n",
      "1\n",
      "7\n",
      "3\n",
      "4\n",
      "6\n",
      "2\n"
     ]
    }
   ],
   "source": [
    "for i in range(10):\n",
    "    a_random_value=random.randint(1,7)\n",
    "    print(a_random_value)"
   ]
  },
  {
   "cell_type": "code",
   "execution_count": 80,
   "metadata": {},
   "outputs": [
    {
     "name": "stdout",
     "output_type": "stream",
     "text": [
      "4\n",
      "5\n",
      "6\n",
      "6\n",
      "2\n",
      "1\n",
      "1\n",
      "4\n",
      "2\n",
      "1\n"
     ]
    }
   ],
   "source": [
    "for i in range(10):\n",
    "    print(random.randrange(1,7))"
   ]
  },
  {
   "cell_type": "code",
   "execution_count": 102,
   "metadata": {},
   "outputs": [
    {
     "name": "stdout",
     "output_type": "stream",
     "text": [
      "The probability of a tail is 0.500517\n"
     ]
    }
   ],
   "source": [
    "number_of_tails=0\n",
    "number_of_experiments=1000000\n",
    "for i in range(number_of_experiments):\n",
    "    outcome=random.randint(0,1)    ## 0 means tail , 1 means head\n",
    "  \n",
    "    if outcome== 0:\n",
    "        number_of_tails +=1\n",
    "\n",
    "print('The probability of a tail is {}'.format(number_of_tails/number_of_experiments))"
   ]
  },
  {
   "cell_type": "code",
   "execution_count": null,
   "metadata": {},
   "outputs": [],
   "source": []
  },
  {
   "cell_type": "code",
   "execution_count": null,
   "metadata": {},
   "outputs": [],
   "source": [
    "## What is the probability of rolling a 3 with a balanced die"
   ]
  },
  {
   "cell_type": "code",
   "execution_count": 128,
   "metadata": {},
   "outputs": [
    {
     "name": "stdout",
     "output_type": "stream",
     "text": [
      "0.1666\n"
     ]
    }
   ],
   "source": [
    "counter=0  ## counting the number of 3s\n",
    "number_of_experiments=10000\n",
    "\n",
    "for i in range(number_of_experiments):\n",
    "#      print(i)\n",
    "     outcome=random.randint(1,6)\n",
    "#     print(outcome)\n",
    "     if outcome == 3:\n",
    "        counter +=1      #counter = counter + 1\n",
    "\n",
    "print(counter/number_of_experiments)"
   ]
  },
  {
   "cell_type": "code",
   "execution_count": 127,
   "metadata": {},
   "outputs": [
    {
     "data": {
      "text/plain": [
       "0.16666666666666666"
      ]
     },
     "execution_count": 127,
     "metadata": {},
     "output_type": "execute_result"
    }
   ],
   "source": [
    "1/6"
   ]
  },
  {
   "cell_type": "code",
   "execution_count": null,
   "metadata": {},
   "outputs": [],
   "source": []
  }
 ],
 "metadata": {
  "kernelspec": {
   "display_name": "Python 3",
   "language": "python",
   "name": "python3"
  },
  "language_info": {
   "codemirror_mode": {
    "name": "ipython",
    "version": 3
   },
   "file_extension": ".py",
   "mimetype": "text/x-python",
   "name": "python",
   "nbconvert_exporter": "python",
   "pygments_lexer": "ipython3",
   "version": "3.7.0"
  }
 },
 "nbformat": 4,
 "nbformat_minor": 2
}
