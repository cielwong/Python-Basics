{
 "cells": [
  {
   "cell_type": "markdown",
   "metadata": {},
   "source": [
    "\n",
    "\n",
    "# Web Scraping with Beautiful Soup\n",
    "\n",
    "## Working with objects"
   ]
  },
  {
   "cell_type": "code",
   "execution_count": null,
   "metadata": {},
   "outputs": [],
   "source": []
  },
  {
   "cell_type": "code",
   "execution_count": 135,
   "metadata": {},
   "outputs": [
    {
     "name": "stdout",
     "output_type": "stream",
     "text": [
      "Requirement already satisfied: BeautifulSoup4 in /usr/local/lib/python3.7/site-packages (4.6.3)\r\n"
     ]
    }
   ],
   "source": [
    "#! pip3 install BeautifulSoup4"
   ]
  },
  {
   "cell_type": "code",
   "execution_count": 136,
   "metadata": {},
   "outputs": [],
   "source": [
    "from bs4 import BeautifulSoup"
   ]
  },
  {
   "cell_type": "markdown",
   "metadata": {
    "collapsed": true
   },
   "source": [
    "### The BeautifulSoup object"
   ]
  },
  {
   "cell_type": "code",
   "execution_count": 200,
   "metadata": {},
   "outputs": [],
   "source": [
    "html_doc = '''\n",
    "<html><head><title>Best Books</title></head>\n",
    "<body>\n",
    "<p class='title'><b>PYTHON DATA SCIENCE HANDBOOK</b></p>\n",
    "\n",
    "<p class='description'>\n",
    "    This review is for  <a href=\"http://shop.oreilly.com/product/0636920034919.do\">Python Data Science Handbook</a>  by Jake VanderPlas; the full text of the book and the content is available <a href=\"https://github.com/jakevdp/PythonDataScienceHandbook\">on GitHub</a>  in the form of Jupyter notebooks.\n",
    "\n",
    "    <p>The text is released under the <a href=\"https://creativecommons.org/licenses/by-nc-nd/3.0/us/legalcode\">CC-BY-NC-ND license</a>, and code is released under the <a href=\"https://opensource.org/licenses/MIT\">MIT license</a>.</p>\n",
    "    \n",
    "    <p>If you find this content useful, please consider supporting the work by <a href=\"http://shop.oreilly.com/product/0636920034919.do\">buying the book</a>!</p>\n",
    "    \n",
    "    \n",
    "<br><br>\n",
    "This book:\n",
    "        <br>\n",
    " <ul>\n",
    "  <li>Is not meant to be an introduction to Python or to programming in general; I assume the reader has familiarity with the Python language, including defining functions, assigning variables, calling methods of objects, controlling the flow of a program, and other basic tasks.</li>\n",
    "  <li>Is for individuals who want to learn the language with the aim of using it as a tool for data-intensive and computational science</li>\n",
    "  <li>Focuses on a particular package or tool that contributes a fundamental piece of the Python Data Sciece story in each chapter</li>\n",
    "  </ul>\n",
    "<br><br>\n",
    "What to do next:\n",
    "<br>\n",
    "<p>Supplemental material (code examples, figures, etc.) is available for download at <a href=\"http://github.com/jakevdp/PythonDataScienceHandbook/\">http://github.com/jakevdp/PythonDataScienceHandbook/</a>. This book is here to help you get your job done. In general, if example code is offered with this book, you may use it in your programs and documentation. You do not need to contact us for permission unless you’re reproducing a significant portion of the code. For example, writing a program that uses several chunks of code from this book does not require permission. Selling or distributing a CD-ROM of examples from O’Reilly books does require permission. Answering a question by citing this book and quoting example code does not require permission. Incorporating a significant amount of example code from this book into your product’s documentation does require permission.</p>\n",
    "\n",
    "<p>If you feel your use of code examples falls outside fair use or the per‐ mission given above, feel free to contact us at permissions@oreilly.com</p>\n",
    "\n",
    "<p class='description'>Most of the text on this page is copied from <a href=\"https://jakevdp.github.io/PythonDataScienceHandbook/00.00-preface.html\"> here</a> to create a sample html page for teaching purposes </p>\n",
    "\n",
    "'''"
   ]
  },
  {
   "cell_type": "code",
   "execution_count": 201,
   "metadata": {},
   "outputs": [
    {
     "name": "stdout",
     "output_type": "stream",
     "text": [
      "\n",
      "<html><head><title>Best Books</title></head>\n",
      "<body>\n",
      "<p class=\"title\"><b>PYTHON DATA SCIENCE HANDBOOK</b></p>\n",
      "<p class=\"description\">\n",
      "    This review is for  <a href=\"http://shop.oreilly.com/product/0636920034919.do\">Python Data Science Handbook</a>  by Jake VanderPlas; the full text of the book and the content is available <a href=\"https://github.com/jakevdp/PythonDataScienceHandbook\">on GitHub</a>  in the form of Jupyter notebooks.\n",
      "\n",
      "    <p>The text is released under the <a href=\"https://creativecommons.org/licenses/by-nc-nd/3.0/us/legalcode\">CC-BY-NC-ND license</a>, and code is released under the <a href=\"https://opensource.org/licenses/MIT\">MIT license</a>.</p>\n",
      "<p>If you find this content useful, please consider supporting the work by <a href=\"http://shop.oreilly.com/product/0636920034919.do\">buying the book</a>!</p>\n",
      "<br/><br/>\n",
      "This book:\n",
      "        <br/>\n",
      "<ul>\n",
      "<li>Is not meant to be an introduction to Python or to programming in general; I assume the reader has familiarity with the Python language, including defining functions, assigning variables, calling methods of objects, controlling the flow of a program, and other basic tasks.</li>\n",
      "<li>Is for individuals who want to learn the language with the aim of using it as a tool for data-intensive and computational science</li>\n",
      "<li>Focuses on a particular package or tool that contributes a fundamental piece of the Python Data Sciece story in each chapter</li>\n",
      "</ul>\n",
      "<br/><br/>\n",
      "What to do next:\n",
      "<br/>\n",
      "<p>Supplemental material (code examples, figures, etc.) is available for download at <a href=\"http://github.com/jakevdp/PythonDataScienceHandbook/\">http://github.com/jakevdp/PythonDataScienceHandbook/</a>. This book is here to help you get your job done. In general, if example code is offered with this book, you may use it in your programs and documentation. You do not need to contact us for permission unless you’re reproducing a significant portion of the code. For example, writing a program that uses several chunks of code from this book does not require permission. Selling or distributing a CD-ROM of examples from O’Reilly books does require permission. Answering a question by citing this book and quoting example code does not require permission. Incorporating a significant amount of example code from this book into your product’s documentation does require permission.</p>\n",
      "<p>If you feel your use of code examples falls outside fair use or the per‐ mission given above, feel free to contact us at permissions@oreilly.com</p>\n",
      "<p class=\"description\">Most of the text on this page is copied from <a href=\"https://jakevdp.github.io/PythonDataScienceHandbook/00.00-preface.html\"> here</a> to create a sample html page for teaching purposes </p>\n",
      "</p></body></html>\n"
     ]
    }
   ],
   "source": [
    "soup = BeautifulSoup(html_doc, 'html.parser')\n",
    "print(soup)"
   ]
  },
  {
   "cell_type": "code",
   "execution_count": 202,
   "metadata": {},
   "outputs": [
    {
     "name": "stdout",
     "output_type": "stream",
     "text": [
      "<html>\n",
      " <head>\n",
      "  <title>\n",
      "   Best Books\n",
      "  </title>\n",
      " </head>\n",
      " <body>\n",
      "  <p class=\"title\">\n",
      "   <b>\n",
      "    PYTHON DATA SCIENCE HANDBOOK\n",
      "   </b>\n",
      "  </p>\n",
      "  <p class=\"description\">\n",
      "   This review is for\n",
      "   <a href=\"http://shop.oreilly.com/product/0636920034919.do\">\n",
      "    Python Data Science Handbook\n",
      "   </a>\n",
      "   by Jake VanderPlas; the full text of the book and the\n"
     ]
    }
   ],
   "source": [
    "print(soup.prettify()[0:350])"
   ]
  },
  {
   "cell_type": "markdown",
   "metadata": {
    "collapsed": true
   },
   "source": [
    "### Tag objects\n"
   ]
  },
  {
   "cell_type": "markdown",
   "metadata": {
    "collapsed": true
   },
   "source": [
    "#### Working with names"
   ]
  },
  {
   "cell_type": "code",
   "execution_count": 213,
   "metadata": {},
   "outputs": [
    {
     "data": {
      "text/plain": [
       "bs4.element.Tag"
      ]
     },
     "execution_count": 213,
     "metadata": {},
     "output_type": "execute_result"
    }
   ],
   "source": [
    "soup = BeautifulSoup('<b body=\"description\"\">Product Description</b>', 'html')\n",
    "\n",
    "tag=soup.b\n",
    "type(tag)"
   ]
  },
  {
   "cell_type": "code",
   "execution_count": 207,
   "metadata": {},
   "outputs": [],
   "source": [
    "tag=soup.html.body.p"
   ]
  },
  {
   "cell_type": "code",
   "execution_count": 214,
   "metadata": {},
   "outputs": [
    {
     "name": "stdout",
     "output_type": "stream",
     "text": [
      "<b body=\"description\">Product Description</b>\n"
     ]
    }
   ],
   "source": [
    "print(tag)"
   ]
  },
  {
   "cell_type": "code",
   "execution_count": 215,
   "metadata": {},
   "outputs": [
    {
     "data": {
      "text/plain": [
       "'b'"
      ]
     },
     "execution_count": 215,
     "metadata": {},
     "output_type": "execute_result"
    }
   ],
   "source": [
    "tag.name"
   ]
  },
  {
   "cell_type": "code",
   "execution_count": 216,
   "metadata": {},
   "outputs": [
    {
     "data": {
      "text/plain": [
       "<bestbooks body=\"description\">Product Description</bestbooks>"
      ]
     },
     "execution_count": 216,
     "metadata": {},
     "output_type": "execute_result"
    }
   ],
   "source": [
    "tag.name = 'bestbooks'\n",
    "tag"
   ]
  },
  {
   "cell_type": "code",
   "execution_count": 217,
   "metadata": {},
   "outputs": [
    {
     "data": {
      "text/plain": [
       "'bestbooks'"
      ]
     },
     "execution_count": 217,
     "metadata": {},
     "output_type": "execute_result"
    }
   ],
   "source": [
    "tag.name"
   ]
  },
  {
   "cell_type": "markdown",
   "metadata": {
    "collapsed": true
   },
   "source": [
    "#### Working with attributes"
   ]
  },
  {
   "cell_type": "code",
   "execution_count": 218,
   "metadata": {},
   "outputs": [
    {
     "data": {
      "text/plain": [
       "'description'"
      ]
     },
     "execution_count": 218,
     "metadata": {},
     "output_type": "execute_result"
    }
   ],
   "source": [
    "tag['body']"
   ]
  },
  {
   "cell_type": "code",
   "execution_count": 219,
   "metadata": {},
   "outputs": [
    {
     "data": {
      "text/plain": [
       "{'body': 'description'}"
      ]
     },
     "execution_count": 219,
     "metadata": {},
     "output_type": "execute_result"
    }
   ],
   "source": [
    "tag.attrs"
   ]
  },
  {
   "cell_type": "code",
   "execution_count": 220,
   "metadata": {},
   "outputs": [
    {
     "data": {
      "text/plain": [
       "{'body': 'description', 'id': 3}"
      ]
     },
     "execution_count": 220,
     "metadata": {},
     "output_type": "execute_result"
    }
   ],
   "source": [
    "tag['id'] = 3\n",
    "tag.attrs"
   ]
  },
  {
   "cell_type": "code",
   "execution_count": 221,
   "metadata": {},
   "outputs": [
    {
     "data": {
      "text/plain": [
       "<bestbooks body=\"description\" id=\"3\">Product Description</bestbooks>"
      ]
     },
     "execution_count": 221,
     "metadata": {},
     "output_type": "execute_result"
    }
   ],
   "source": [
    "tag"
   ]
  },
  {
   "cell_type": "code",
   "execution_count": 222,
   "metadata": {},
   "outputs": [
    {
     "data": {
      "text/plain": [
       "<bestbooks>Product Description</bestbooks>"
      ]
     },
     "execution_count": 222,
     "metadata": {},
     "output_type": "execute_result"
    }
   ],
   "source": [
    "del tag['body']\n",
    "del tag['id']\n",
    "tag"
   ]
  },
  {
   "cell_type": "code",
   "execution_count": 223,
   "metadata": {},
   "outputs": [
    {
     "data": {
      "text/plain": [
       "{}"
      ]
     },
     "execution_count": 223,
     "metadata": {},
     "output_type": "execute_result"
    }
   ],
   "source": [
    "tag.attrs"
   ]
  },
  {
   "cell_type": "markdown",
   "metadata": {},
   "source": [
    "#### Using tags to navigate a tree\n"
   ]
  },
  {
   "cell_type": "code",
   "execution_count": 224,
   "metadata": {},
   "outputs": [],
   "source": [
    "html_doc = '''\n",
    "<html><head><title>Best Books</title></head>\n",
    "<body>\n",
    "<p class='title'><b>PYTHON DATA SCIENCE HANDBOOK</b></p>\n",
    "\n",
    "<p class='description'>\n",
    "    This review is for  <a href=\"http://shop.oreilly.com/product/0636920034919.do\">Python Data Science Handbook</a>  by Jake VanderPlas; the full text of the book and the content is available <a href=\"https://github.com/jakevdp/PythonDataScienceHandbook\">on GitHub</a>  in the form of Jupyter notebooks.\n",
    "\n",
    "    <p>The text is released under the <a href=\"https://creativecommons.org/licenses/by-nc-nd/3.0/us/legalcode\">CC-BY-NC-ND license</a>, and code is released under the <a href=\"https://opensource.org/licenses/MIT\">MIT license</a>.</p>\n",
    "    \n",
    "    <p>If you find this content useful, please consider supporting the work by <a href=\"http://shop.oreilly.com/product/0636920034919.do\">buying the book</a>!</p>\n",
    "    \n",
    "    \n",
    "<br><br>\n",
    "This book:\n",
    "        <br>\n",
    " <ul>\n",
    "  <li>Is not meant to be an introduction to Python or to programming in general; I assume the reader has familiarity with the Python language, including defining functions, assigning variables, calling methods of objects, controlling the flow of a program, and other basic tasks.</li>\n",
    "  <li>Is for individuals who want to learn the language with the aim of using it as a tool for data-intensive and computational science</li>\n",
    "  <li>Focuses on a particular package or tool that contributes a fundamental piece of the Python Data Sciece story in each chapter</li>\n",
    "  </ul>\n",
    "<br><br>\n",
    "What to do next:\n",
    "<br>\n",
    "<p>Supplemental material (code examples, figures, etc.) is available for download at <a href=\"http://github.com/jakevdp/PythonDataScienceHandbook/\">http://github.com/jakevdp/PythonDataScienceHandbook/</a>. This book is here to help you get your job done. In general, if example code is offered with this book, you may use it in your programs and documentation. You do not need to contact us for permission unless you’re reproducing a significant portion of the code. For example, writing a program that uses several chunks of code from this book does not require permission. Selling or distributing a CD-ROM of examples from O’Reilly books does require permission. Answering a question by citing this book and quoting example code does not require permission. Incorporating a significant amount of example code from this book into your product’s documentation does require permission.</p>\n",
    "\n",
    "<p>If you feel your use of code examples falls outside fair use or the per‐ mission given above, feel free to contact us at permissions@oreilly.com</p>\n",
    "\n",
    "<p class='description'>Most of the text on this page is copied from <a href=\"https://jakevdp.github.io/PythonDataScienceHandbook/00.00-preface.html\"> here</a> to create a sample html page for teaching purposes </p>\n",
    "\n",
    "\n",
    "'''\n",
    "soup = BeautifulSoup(html_doc, 'html.parser')"
   ]
  },
  {
   "cell_type": "code",
   "execution_count": 155,
   "metadata": {},
   "outputs": [
    {
     "data": {
      "text/plain": [
       "<head><title>Best Books</title></head>"
      ]
     },
     "execution_count": 155,
     "metadata": {},
     "output_type": "execute_result"
    }
   ],
   "source": [
    "soup.head"
   ]
  },
  {
   "cell_type": "code",
   "execution_count": 156,
   "metadata": {},
   "outputs": [
    {
     "data": {
      "text/plain": [
       "<title>Best Books</title>"
      ]
     },
     "execution_count": 156,
     "metadata": {},
     "output_type": "execute_result"
    }
   ],
   "source": [
    "soup.title"
   ]
  },
  {
   "cell_type": "code",
   "execution_count": 157,
   "metadata": {},
   "outputs": [
    {
     "data": {
      "text/plain": [
       "<b>PYTHON DATA SCIENCE HANDBOOK</b>"
      ]
     },
     "execution_count": 157,
     "metadata": {},
     "output_type": "execute_result"
    }
   ],
   "source": [
    "soup.body.b"
   ]
  },
  {
   "cell_type": "code",
   "execution_count": 158,
   "metadata": {},
   "outputs": [
    {
     "data": {
      "text/plain": [
       "<body>\n",
       "<p class=\"title\"><b>PYTHON DATA SCIENCE HANDBOOK</b></p>\n",
       "<p class=\"description\">\n",
       "    This review is for  <a href=\"http://shop.oreilly.com/product/0636920034919.do\">Python Data Science Handbook</a>  by Jake VanderPlas; the full text of the book and the content is available <a href=\"https://github.com/jakevdp/PythonDataScienceHandbook\">on GitHub</a>  in the form of Jupyter notebooks.\n",
       "\n",
       "    <p>The text is released under the <a href=\"https://creativecommons.org/licenses/by-nc-nd/3.0/us/legalcode\">CC-BY-NC-ND license</a>, and code is released under the <a href=\"https://opensource.org/licenses/MIT\">MIT license</a>.</p>\n",
       "<p>If you find this content useful, please consider supporting the work by <a href=\"http://shop.oreilly.com/product/0636920034919.do\">buying the book</a>!</p>\n",
       "<br/><br/>\n",
       "This book:\n",
       "        <br/>\n",
       "<ul>\n",
       "<li>Is not meant to be an introduction to Python or to programming in general; I assume the reader has familiarity with the Python language, including defining functions, assigning variables, calling methods of objects, controlling the flow of a program, and other basic tasks.</li>\n",
       "<li>Is for individuals who want to learn the language with the aim of using it as a tool for data-intensive and computational science</li>\n",
       "<li>Focuses on a particular package or tool that contributes a fundamental piece of the Python Data Sciece story in each chapter</li>\n",
       "</ul>\n",
       "<br/><br/>\n",
       "What to do next:\n",
       "<br/>\n",
       "<p>Supplemental material (code examples, figures, etc.) is available for download at <a href=\"http://github.com/jakevdp/PythonDataScienceHandbook/\">http://github.com/jakevdp/PythonDataScienceHandbook/</a>. This book is here to help you get your job done. In general, if example code is offered with this book, you may use it in your programs and documentation. You do not need to contact us for permission unless you’re reproducing a significant portion of the code. For example, writing a program that uses several chunks of code from this book does not require permission. Selling or distributing a CD-ROM of examples from O’Reilly books does require permission. Answering a question by citing this book and quoting example code does not require permission. Incorporating a significant amount of example code from this book into your product’s documentation does require permission.</p>\n",
       "<p>If you feel your use of code examples falls outside fair use or the per‐ mission given above, feel free to contact us at permissions@oreilly.com</p>\n",
       "<p class=\"description\">Most of the text on this page is copied from <a href=\"https://jakevdp.github.io/PythonDataScienceHandbook/00.00-preface.html\"> here</a> to create a sample html page for teaching purposes </p>\n",
       "</p></body>"
      ]
     },
     "execution_count": 158,
     "metadata": {},
     "output_type": "execute_result"
    }
   ],
   "source": [
    "soup.body"
   ]
  },
  {
   "cell_type": "code",
   "execution_count": 159,
   "metadata": {},
   "outputs": [
    {
     "data": {
      "text/plain": [
       "<ul>\n",
       "<li>Is not meant to be an introduction to Python or to programming in general; I assume the reader has familiarity with the Python language, including defining functions, assigning variables, calling methods of objects, controlling the flow of a program, and other basic tasks.</li>\n",
       "<li>Is for individuals who want to learn the language with the aim of using it as a tool for data-intensive and computational science</li>\n",
       "<li>Focuses on a particular package or tool that contributes a fundamental piece of the Python Data Sciece story in each chapter</li>\n",
       "</ul>"
      ]
     },
     "execution_count": 159,
     "metadata": {},
     "output_type": "execute_result"
    }
   ],
   "source": [
    "soup.ul"
   ]
  },
  {
   "cell_type": "code",
   "execution_count": 160,
   "metadata": {},
   "outputs": [
    {
     "data": {
      "text/plain": [
       "<a href=\"http://shop.oreilly.com/product/0636920034919.do\">Python Data Science Handbook</a>"
      ]
     },
     "execution_count": 160,
     "metadata": {},
     "output_type": "execute_result"
    }
   ],
   "source": [
    "soup.a"
   ]
  },
  {
   "cell_type": "markdown",
   "metadata": {
    "collapsed": true
   },
   "source": [
    "# Exploring NavigableString Objects"
   ]
  },
  {
   "cell_type": "code",
   "execution_count": 161,
   "metadata": {},
   "outputs": [],
   "source": [
    "from bs4 import BeautifulSoup"
   ]
  },
  {
   "cell_type": "code",
   "execution_count": 162,
   "metadata": {},
   "outputs": [],
   "source": [
    "soup = BeautifulSoup('<b body=\"description\">Product description</b>')"
   ]
  },
  {
   "cell_type": "markdown",
   "metadata": {},
   "source": [
    "# NavigableString objects"
   ]
  },
  {
   "cell_type": "code",
   "execution_count": 163,
   "metadata": {},
   "outputs": [
    {
     "data": {
      "text/plain": [
       "bs4.element.Tag"
      ]
     },
     "execution_count": 163,
     "metadata": {},
     "output_type": "execute_result"
    }
   ],
   "source": [
    "tag= soup.b\n",
    "type(tag)"
   ]
  },
  {
   "cell_type": "code",
   "execution_count": 164,
   "metadata": {},
   "outputs": [
    {
     "data": {
      "text/plain": [
       "'b'"
      ]
     },
     "execution_count": 164,
     "metadata": {},
     "output_type": "execute_result"
    }
   ],
   "source": [
    "tag.name"
   ]
  },
  {
   "cell_type": "code",
   "execution_count": 165,
   "metadata": {},
   "outputs": [
    {
     "data": {
      "text/plain": [
       "'Product description'"
      ]
     },
     "execution_count": 165,
     "metadata": {},
     "output_type": "execute_result"
    }
   ],
   "source": [
    "tag.string"
   ]
  },
  {
   "cell_type": "code",
   "execution_count": 166,
   "metadata": {},
   "outputs": [
    {
     "data": {
      "text/plain": [
       "bs4.element.NavigableString"
      ]
     },
     "execution_count": 166,
     "metadata": {},
     "output_type": "execute_result"
    }
   ],
   "source": [
    "type(tag.string)"
   ]
  },
  {
   "cell_type": "code",
   "execution_count": 167,
   "metadata": {},
   "outputs": [
    {
     "data": {
      "text/plain": [
       "'Product description'"
      ]
     },
     "execution_count": 167,
     "metadata": {},
     "output_type": "execute_result"
    }
   ],
   "source": [
    "nav_string = tag.string\n",
    "nav_string"
   ]
  },
  {
   "cell_type": "code",
   "execution_count": 168,
   "metadata": {},
   "outputs": [
    {
     "data": {
      "text/plain": [
       "'Null'"
      ]
     },
     "execution_count": 168,
     "metadata": {},
     "output_type": "execute_result"
    }
   ],
   "source": [
    "nav_string.replace_with('Null')\n",
    "tag.string"
   ]
  },
  {
   "cell_type": "markdown",
   "metadata": {},
   "source": [
    "# Working with NavigableString objects"
   ]
  },
  {
   "cell_type": "code",
   "execution_count": 265,
   "metadata": {},
   "outputs": [],
   "source": [
    "html_doc = '''\n",
    "<html><head><title>Best Books</title></head>\n",
    "<body>\n",
    "<p class='title'><b>PYTHON DATA SCIENCE HANDBOOK</b></p>\n",
    "\n",
    "<p class='description'>\n",
    "    This review is for  <a href=\"http://shop.oreilly.com/product/0636920034919.do\">Python Data Science Handbook</a>  by Jake VanderPlas; the full text of the book and the content is available <a href=\"https://github.com/jakevdp/PythonDataScienceHandbook\">on GitHub</a>  in the form of Jupyter notebooks.\n",
    "\n",
    "    <p>The text is released under the <a href=\"https://creativecommons.org/licenses/by-nc-nd/3.0/us/legalcode\">CC-BY-NC-ND license</a>, and code is released under the <a href=\"https://opensource.org/licenses/MIT\">MIT license</a>.</p>\n",
    "    \n",
    "    <p>If you find this content useful, please consider supporting the work by <a href=\"http://shop.oreilly.com/product/0636920034919.do\">buying the book</a>!</p>\n",
    "    \n",
    "    \n",
    "<br><br>\n",
    "This book:\n",
    "        <br>\n",
    " <ul>\n",
    "  <li>Is not meant to be an introduction to Python or to programming in general; I assume the reader has familiarity with the Python language, including defining functions, assigning variables, calling methods of objects, controlling the flow of a program, and other basic tasks.</li>\n",
    "  <li>Is for individuals who want to learn the language with the aim of using it as a tool for data-intensive and computational science</li>\n",
    "  <li>Focuses on a particular package or tool that contributes a fundamental piece of the Python Data Sciece story in each chapter</li>\n",
    "  </ul>\n",
    "<br><br>\n",
    "What to do next:\n",
    "<br>\n",
    "<p>Supplemental material (code examples, figures, etc.) is available for download at <a href=\"http://github.com/jakevdp/PythonDataScienceHandbook/\">http://github.com/jakevdp/PythonDataScienceHandbook/</a>. This book is here to help you get your job done. In general, if example code is offered with this book, you may use it in your programs and documentation. You do not need to contact us for permission unless you’re reproducing a significant portion of the code. For example, writing a program that uses several chunks of code from this book does not require permission. Selling or distributing a CD-ROM of examples from O’Reilly books does require permission. Answering a question by citing this book and quoting example code does not require permission. Incorporating a significant amount of example code from this book into your product’s documentation does require permission.</p>\n",
    "\n",
    "<p>If you feel your use of code examples falls outside fair use or the per‐ mission given above, feel free to contact us at permissions@oreilly.com</p>\n",
    "\n",
    "<p class='description'>Most of the text on this page is copied from <a href=\"https://jakevdp.github.io/PythonDataScienceHandbook/00.00-preface.html\"> here</a> to create a sample html page for teaching purposes </p>\n",
    "\n",
    "\n",
    "'''\n",
    "soup = BeautifulSoup(html_doc, 'html.parser')"
   ]
  },
  {
   "cell_type": "code",
   "execution_count": 279,
   "metadata": {},
   "outputs": [
    {
     "name": "stdout",
     "output_type": "stream",
     "text": [
      "\n",
      "Best Books\n",
      "\n",
      "PYTHON DATA SCIENCE HANDBOOK\n",
      "\n",
      "    This review is for  Python Data Science Handbook  by Jake VanderPlas; the full text of the book and the content is available on GitHub  in the form of Jupyter notebooks.\n",
      "\n",
      "    The text is released under the CC-BY-NC-ND license, and code is released under the MIT license.\n",
      "If you find this content useful, please consider supporting the work by buying the book!\n",
      "\n",
      "This book:\n",
      "        \n",
      "\n",
      "Is not meant to be an introduction to Python or to programming in general; I assume the reader has familiarity with the Python language, including defining functions, assigning variables, calling methods of objects, controlling the flow of a program, and other basic tasks.\n",
      "Is for individuals who want to learn the language with the aim of using it as a tool for data-intensive and computational science\n",
      "Focuses on a particular package or tool that contributes a fundamental piece of the Python Data Sciece story in each chapter\n",
      "\n",
      "\n",
      "What to do next:\n",
      "\n",
      "Supplemental material (code examples, figures, etc.) is available for download at http://github.com/jakevdp/PythonDataScienceHandbook/. This book is here to help you get your job done. In general, if example code is offered with this book, you may use it in your programs and documentation. You do not need to contact us for permission unless you’re reproducing a significant portion of the code. For example, writing a program that uses several chunks of code from this book does not require permission. Selling or distributing a CD-ROM of examples from O’Reilly books does require permission. Answering a question by citing this book and quoting example code does not require permission. Incorporating a significant amount of example code from this book into your product’s documentation does require permission.\n",
      "If you feel your use of code examples falls outside fair use or the per‐ mission given above, feel free to contact us at permissions@oreilly.com\n",
      "Most of the text on this page is copied from  here to create a sample html page for teaching purposes \n",
      "\n"
     ]
    }
   ],
   "source": [
    "print(soup.text)"
   ]
  },
  {
   "cell_type": "code",
   "execution_count": null,
   "metadata": {},
   "outputs": [],
   "source": []
  },
  {
   "cell_type": "code",
   "execution_count": 280,
   "metadata": {},
   "outputs": [
    {
     "data": {
      "text/plain": [
       "['\\n',\n",
       " 'Best Books',\n",
       " '\\n',\n",
       " '\\n',\n",
       " 'PYTHON DATA SCIENCE HANDBOOK',\n",
       " '\\n',\n",
       " '\\n    This review is for  ',\n",
       " 'Python Data Science Handbook',\n",
       " '  by Jake VanderPlas; the full text of the book and the content is available ',\n",
       " 'on GitHub',\n",
       " '  in the form of Jupyter notebooks.\\n\\n    ',\n",
       " 'The text is released under the ',\n",
       " 'CC-BY-NC-ND license',\n",
       " ', and code is released under the ',\n",
       " 'MIT license',\n",
       " '.',\n",
       " '\\n',\n",
       " 'If you find this content useful, please consider supporting the work by ',\n",
       " 'buying the book',\n",
       " '!',\n",
       " '\\n',\n",
       " '\\nThis book:\\n        ',\n",
       " '\\n',\n",
       " '\\n',\n",
       " 'Is not meant to be an introduction to Python or to programming in general; I assume the reader has familiarity with the Python language, including defining functions, assigning variables, calling methods of objects, controlling the flow of a program, and other basic tasks.',\n",
       " '\\n',\n",
       " 'Is for individuals who want to learn the language with the aim of using it as a tool for data-intensive and computational science',\n",
       " '\\n',\n",
       " 'Focuses on a particular package or tool that contributes a fundamental piece of the Python Data Sciece story in each chapter',\n",
       " '\\n',\n",
       " '\\n',\n",
       " '\\nWhat to do next:\\n',\n",
       " '\\n',\n",
       " 'Supplemental material (code examples, figures, etc.) is available for download at ',\n",
       " 'http://github.com/jakevdp/PythonDataScienceHandbook/',\n",
       " '. This book is here to help you get your job done. In general, if example code is offered with this book, you may use it in your programs and documentation. You do not need to contact us for permission unless you’re reproducing a significant portion of the code. For example, writing a program that uses several chunks of code from this book does not require permission. Selling or distributing a CD-ROM of examples from O’Reilly books does require permission. Answering a question by citing this book and quoting example code does not require permission. Incorporating a significant amount of example code from this book into your product’s documentation does require permission.',\n",
       " '\\n',\n",
       " 'If you feel your use of code examples falls outside fair use or the per‐ mission given above, feel free to contact us at permissions@oreilly.com',\n",
       " '\\n',\n",
       " 'Most of the text on this page is copied from ',\n",
       " ' here',\n",
       " ' to create a sample html page for teaching purposes ',\n",
       " '\\n']"
      ]
     },
     "execution_count": 280,
     "metadata": {},
     "output_type": "execute_result"
    }
   ],
   "source": [
    "list(soup.strings)"
   ]
  },
  {
   "cell_type": "code",
   "execution_count": null,
   "metadata": {},
   "outputs": [],
   "source": []
  },
  {
   "cell_type": "code",
   "execution_count": 281,
   "metadata": {},
   "outputs": [
    {
     "name": "stdout",
     "output_type": "stream",
     "text": [
      "'Best Books'\n",
      "'PYTHON DATA SCIENCE HANDBOOK'\n",
      "'This review is for'\n",
      "'Python Data Science Handbook'\n",
      "'by Jake VanderPlas; the full text of the book and the content is available'\n",
      "'on GitHub'\n",
      "'in the form of Jupyter notebooks.'\n",
      "'The text is released under the'\n",
      "'CC-BY-NC-ND license'\n",
      "', and code is released under the'\n",
      "'MIT license'\n",
      "'.'\n",
      "'If you find this content useful, please consider supporting the work by'\n",
      "'buying the book'\n",
      "'!'\n",
      "'This book:'\n",
      "'Is not meant to be an introduction to Python or to programming in general; I assume the reader has familiarity with the Python language, including defining functions, assigning variables, calling methods of objects, controlling the flow of a program, and other basic tasks.'\n",
      "'Is for individuals who want to learn the language with the aim of using it as a tool for data-intensive and computational science'\n",
      "'Focuses on a particular package or tool that contributes a fundamental piece of the Python Data Sciece story in each chapter'\n",
      "'What to do next:'\n",
      "'Supplemental material (code examples, figures, etc.) is available for download at'\n",
      "'http://github.com/jakevdp/PythonDataScienceHandbook/'\n",
      "'. This book is here to help you get your job done. In general, if example code is offered with this book, you may use it in your programs and documentation. You do not need to contact us for permission unless you’re reproducing a significant portion of the code. For example, writing a program that uses several chunks of code from this book does not require permission. Selling or distributing a CD-ROM of examples from O’Reilly books does require permission. Answering a question by citing this book and quoting example code does not require permission. Incorporating a significant amount of example code from this book into your product’s documentation does require permission.'\n",
      "'If you feel your use of code examples falls outside fair use or the per‐ mission given above, feel free to contact us at permissions@oreilly.com'\n",
      "'Most of the text on this page is copied from'\n",
      "'here'\n",
      "'to create a sample html page for teaching purposes'\n"
     ]
    }
   ],
   "source": [
    "for string in soup.stripped_strings: print(repr(string))"
   ]
  },
  {
   "cell_type": "code",
   "execution_count": null,
   "metadata": {},
   "outputs": [],
   "source": []
  },
  {
   "cell_type": "code",
   "execution_count": 269,
   "metadata": {},
   "outputs": [
    {
     "data": {
      "text/plain": [
       "<title>Best Books</title>"
      ]
     },
     "execution_count": 269,
     "metadata": {},
     "output_type": "execute_result"
    }
   ],
   "source": [
    "title_tag = soup.title\n",
    "title_tag"
   ]
  },
  {
   "cell_type": "code",
   "execution_count": 270,
   "metadata": {},
   "outputs": [
    {
     "data": {
      "text/plain": [
       "<head><title>Best Books</title></head>"
      ]
     },
     "execution_count": 270,
     "metadata": {},
     "output_type": "execute_result"
    }
   ],
   "source": [
    "title_tag.parent"
   ]
  },
  {
   "cell_type": "code",
   "execution_count": 271,
   "metadata": {},
   "outputs": [
    {
     "data": {
      "text/plain": [
       "'Best Books'"
      ]
     },
     "execution_count": 271,
     "metadata": {},
     "output_type": "execute_result"
    }
   ],
   "source": [
    "title_tag.string"
   ]
  },
  {
   "cell_type": "code",
   "execution_count": 272,
   "metadata": {},
   "outputs": [
    {
     "data": {
      "text/plain": [
       "<title>Best Books</title>"
      ]
     },
     "execution_count": 272,
     "metadata": {},
     "output_type": "execute_result"
    }
   ],
   "source": [
    "title_tag.string.parent"
   ]
  },
  {
   "cell_type": "markdown",
   "metadata": {},
   "source": [
    "### Saving to a file"
   ]
  },
  {
   "cell_type": "code",
   "execution_count": 277,
   "metadata": {},
   "outputs": [],
   "source": [
    " file=open('bookreco.txt','w+')"
   ]
  },
  {
   "cell_type": "code",
   "execution_count": 278,
   "metadata": {},
   "outputs": [],
   "source": [
    "for string in soup.stripped_strings:\n",
    "    file.write(string+'\\n')\n",
    "file.flush()\n",
    "file.close()"
   ]
  },
  {
   "cell_type": "markdown",
   "metadata": {},
   "source": [
    "# Data Parsing"
   ]
  },
  {
   "cell_type": "code",
   "execution_count": 103,
   "metadata": {},
   "outputs": [],
   "source": [
    "import pandas as pd\n",
    "\n",
    "from bs4 import BeautifulSoup\n",
    "\n",
    "import re"
   ]
  },
  {
   "cell_type": "code",
   "execution_count": 240,
   "metadata": {},
   "outputs": [],
   "source": [
    "r = '''\n",
    "<html><head><title>Best Books</title></head>\n",
    "<body>\n",
    "<p class='title'><b>PYTHON DATA SCIENCE HANDBOOK</b></p>\n",
    "\n",
    "<p class='description'>\n",
    "    This review is for  <a href=\"http://shop.oreilly.com/product/0636920034919.do\">Python Data Science Handbook</a>  by Jake VanderPlas; the full text of the book and the content is available <a href=\"https://github.com/jakevdp/PythonDataScienceHandbook\">on GitHub</a>  in the form of Jupyter notebooks.\n",
    "\n",
    "    <p>The text is released under the <a href=\"https://creativecommons.org/licenses/by-nc-nd/3.0/us/legalcode\">CC-BY-NC-ND license</a>, and code is released under the <a href=\"https://opensource.org/licenses/MIT\">MIT license</a>.</p>\n",
    "    \n",
    "    <p>If you find this content useful, please consider supporting the work by <a href=\"http://shop.oreilly.com/product/0636920034919.do\">buying the book</a>!</p>\n",
    "    \n",
    "    \n",
    "<br><br>\n",
    "This book:\n",
    "        <br>\n",
    " <ul>\n",
    "  <li>Is not meant to be an introduction to Python or to programming in general; I assume the reader has familiarity with the Python language, including defining functions, assigning variables, calling methods of objects, controlling the flow of a program, and other basic tasks.</li>\n",
    "  <li>Is for individuals who want to learn the language with the aim of using it as a tool for data-intensive and computational science</li>\n",
    "  <li>Focuses on a particular package or tool that contributes a fundamental piece of the Python Data Sciece story in each chapter</li>\n",
    "  </ul>\n",
    "<br><br>\n",
    "What to do next:\n",
    "<br>\n",
    "<p>Supplemental material (code examples, figures, etc.) is available for download at <a href=\"http://github.com/jakevdp/PythonDataScienceHandbook/\">http://github.com/jakevdp/PythonDataScienceHandbook/</a>. This book is here to help you get your job done. In general, if example code is offered with this book, you may use it in your programs and documentation. You do not need to contact us for permission unless you’re reproducing a significant portion of the code. For example, writing a program that uses several chunks of code from this book does not require permission. Selling or distributing a CD-ROM of examples from O’Reilly books does require permission. Answering a question by citing this book and quoting example code does not require permission. Incorporating a significant amount of example code from this book into your product’s documentation does require permission.</p>\n",
    "\n",
    "<p>If you feel your use of code examples falls outside fair use or the per‐ mission given above, feel free to contact us at permissions@oreilly.com</p>\n",
    "\n",
    "<p class='description'>Most of the text on this page is copied from <a id='link 3' href=\"https://jakevdp.github.io/PythonDataScienceHandbook/00.00-preface.html\"> here</a> to create a sample html page for teaching purposes </p>\n",
    "\n",
    "\n",
    "'''"
   ]
  },
  {
   "cell_type": "code",
   "execution_count": 241,
   "metadata": {},
   "outputs": [
    {
     "data": {
      "text/plain": [
       "bs4.BeautifulSoup"
      ]
     },
     "execution_count": 241,
     "metadata": {},
     "output_type": "execute_result"
    }
   ],
   "source": [
    "soup = BeautifulSoup(r, 'html')\n",
    "type(soup)"
   ]
  },
  {
   "cell_type": "markdown",
   "metadata": {},
   "source": [
    "# Parsing your data"
   ]
  },
  {
   "cell_type": "code",
   "execution_count": 242,
   "metadata": {},
   "outputs": [
    {
     "name": "stdout",
     "output_type": "stream",
     "text": [
      "<html>\n",
      " <head>\n",
      "  <title>\n",
      "   Best Books\n",
      "  </title>\n",
      " </head>\n",
      " <body>\n",
      "  <p class=\"title\">\n",
      "   <b>\n",
      "    PY\n"
     ]
    }
   ],
   "source": [
    "print(soup.prettify()[0:100])"
   ]
  },
  {
   "cell_type": "markdown",
   "metadata": {},
   "source": [
    "# Getting data from a parse tree"
   ]
  },
  {
   "cell_type": "code",
   "execution_count": 243,
   "metadata": {},
   "outputs": [
    {
     "name": "stdout",
     "output_type": "stream",
     "text": [
      "Best Books\n",
      "\n",
      "PYTHON DATA SCIENCE HANDBOOK\n",
      "\n",
      "    This review is for  Python Data Science Handbook  by Jake VanderPlas; the full text of the book and the content is available on GitHub  in the form of Jupyter notebooks.\n",
      "\n",
      "    The text is released under the CC-BY-NC-ND license, and code is released under the MIT license.\n",
      "If you find this content useful, please consider supporting the work by buying the book!\n",
      "\n",
      "This book:\n",
      "        \n",
      "\n",
      "Is not meant to be an introduction to Python or to programming in general; I assume the reader has familiarity with the Python language, including defining functions, assigning variables, calling methods of objects, controlling the flow of a program, and other basic tasks.\n",
      "Is for individuals who want to learn the language with the aim of using it as a tool for data-intensive and computational science\n",
      "Focuses on a particular package or tool that contributes a fundamental piece of the Python Data Sciece story in each chapter\n",
      "\n",
      "\n",
      "What to do next:\n",
      "\n",
      "Supplemental material (code examples, figures, etc.) is available for download at http://github.com/jakevdp/PythonDataScienceHandbook/. This book is here to help you get your job done. In general, if example code is offered with this book, you may use it in your programs and documentation. You do not need to contact us for permission unless you’re reproducing a significant portion of the code. For example, writing a program that uses several chunks of code from this book does not require permission. Selling or distributing a CD-ROM of examples from O’Reilly books does require permission. Answering a question by citing this book and quoting example code does not require permission. Incorporating a significant amount of example code from this book into your product’s documentation does require permission.\n",
      "If you feel your use of code examples falls outside fair use or the per‐ mission given above, feel free to contact us at permissions@oreilly.com\n",
      "Most of the text on this page is copied from  here to create a sample html page for teaching purposes \n",
      "\n"
     ]
    }
   ],
   "source": [
    "text_only = soup.get_text()\n",
    "print(text_only)"
   ]
  },
  {
   "cell_type": "markdown",
   "metadata": {},
   "source": [
    "\n",
    "# Searching and retrieving data from a parse tree\n"
   ]
  },
  {
   "cell_type": "markdown",
   "metadata": {},
   "source": [
    "Retrieving tags by filtering with name arguments"
   ]
  },
  {
   "cell_type": "code",
   "execution_count": 244,
   "metadata": {},
   "outputs": [
    {
     "data": {
      "text/plain": [
       "[<li>Is not meant to be an introduction to Python or to programming in general; I assume the reader has familiarity with the Python language, including defining functions, assigning variables, calling methods of objects, controlling the flow of a program, and other basic tasks.</li>,\n",
       " <li>Is for individuals who want to learn the language with the aim of using it as a tool for data-intensive and computational science</li>,\n",
       " <li>Focuses on a particular package or tool that contributes a fundamental piece of the Python Data Sciece story in each chapter</li>]"
      ]
     },
     "execution_count": 244,
     "metadata": {},
     "output_type": "execute_result"
    }
   ],
   "source": [
    "soup.find_all(\"li\")"
   ]
  },
  {
   "cell_type": "markdown",
   "metadata": {},
   "source": [
    "Retrieving tags by filtering with keyword arguments"
   ]
  },
  {
   "cell_type": "code",
   "execution_count": 245,
   "metadata": {},
   "outputs": [
    {
     "data": {
      "text/plain": [
       "[<a href=\"https://jakevdp.github.io/PythonDataScienceHandbook/00.00-preface.html\" id=\"link 3\"> here</a>]"
      ]
     },
     "execution_count": 245,
     "metadata": {},
     "output_type": "execute_result"
    }
   ],
   "source": [
    "soup.find_all(id=\"link 3\")"
   ]
  },
  {
   "cell_type": "markdown",
   "metadata": {},
   "source": [
    "Retrieving tags by filtering with string arguments"
   ]
  },
  {
   "cell_type": "code",
   "execution_count": 246,
   "metadata": {},
   "outputs": [
    {
     "data": {
      "text/plain": [
       "[<ul>\n",
       " <li>Is not meant to be an introduction to Python or to programming in general; I assume the reader has familiarity with the Python language, including defining functions, assigning variables, calling methods of objects, controlling the flow of a program, and other basic tasks.</li>\n",
       " <li>Is for individuals who want to learn the language with the aim of using it as a tool for data-intensive and computational science</li>\n",
       " <li>Focuses on a particular package or tool that contributes a fundamental piece of the Python Data Sciece story in each chapter</li>\n",
       " </ul>]"
      ]
     },
     "execution_count": 246,
     "metadata": {},
     "output_type": "execute_result"
    }
   ],
   "source": [
    "soup.find_all('ul')"
   ]
  },
  {
   "cell_type": "markdown",
   "metadata": {},
   "source": [
    "Retrieving tags by filtering with list objects"
   ]
  },
  {
   "cell_type": "code",
   "execution_count": 247,
   "metadata": {},
   "outputs": [
    {
     "data": {
      "text/plain": [
       "[<b>PYTHON DATA SCIENCE HANDBOOK</b>, <ul>\n",
       " <li>Is not meant to be an introduction to Python or to programming in general; I assume the reader has familiarity with the Python language, including defining functions, assigning variables, calling methods of objects, controlling the flow of a program, and other basic tasks.</li>\n",
       " <li>Is for individuals who want to learn the language with the aim of using it as a tool for data-intensive and computational science</li>\n",
       " <li>Focuses on a particular package or tool that contributes a fundamental piece of the Python Data Sciece story in each chapter</li>\n",
       " </ul>]"
      ]
     },
     "execution_count": 247,
     "metadata": {},
     "output_type": "execute_result"
    }
   ],
   "source": [
    "soup.find_all(['ul', 'b'])"
   ]
  },
  {
   "cell_type": "markdown",
   "metadata": {},
   "source": [
    "Retrieving tags by filtering with regular expressions"
   ]
  },
  {
   "cell_type": "code",
   "execution_count": 248,
   "metadata": {},
   "outputs": [
    {
     "name": "stdout",
     "output_type": "stream",
     "text": [
      "html\n",
      "title\n",
      "ul\n",
      "li\n",
      "li\n",
      "li\n"
     ]
    }
   ],
   "source": [
    "l = re.compile('l')\n",
    "for tag in soup.find_all(l): print(tag.name)"
   ]
  },
  {
   "cell_type": "markdown",
   "metadata": {},
   "source": [
    "Retrieving tags by filtering with a Boolean value"
   ]
  },
  {
   "cell_type": "code",
   "execution_count": 249,
   "metadata": {},
   "outputs": [
    {
     "name": "stdout",
     "output_type": "stream",
     "text": [
      "html\n",
      "head\n",
      "title\n",
      "body\n",
      "p\n",
      "b\n",
      "p\n",
      "a\n",
      "a\n",
      "p\n",
      "a\n",
      "a\n",
      "p\n",
      "a\n",
      "br\n",
      "br\n",
      "br\n",
      "ul\n",
      "li\n",
      "li\n",
      "li\n",
      "br\n",
      "br\n",
      "br\n",
      "p\n",
      "a\n",
      "p\n",
      "p\n",
      "a\n"
     ]
    }
   ],
   "source": [
    "for tag in soup.find_all(True): print(tag.name)"
   ]
  },
  {
   "cell_type": "markdown",
   "metadata": {},
   "source": [
    "Retrieving weblinks by filtering with string objects"
   ]
  },
  {
   "cell_type": "code",
   "execution_count": 250,
   "metadata": {},
   "outputs": [
    {
     "name": "stdout",
     "output_type": "stream",
     "text": [
      "http://shop.oreilly.com/product/0636920034919.do\n",
      "https://github.com/jakevdp/PythonDataScienceHandbook\n",
      "https://creativecommons.org/licenses/by-nc-nd/3.0/us/legalcode\n",
      "https://opensource.org/licenses/MIT\n",
      "http://shop.oreilly.com/product/0636920034919.do\n",
      "http://github.com/jakevdp/PythonDataScienceHandbook/\n",
      "https://jakevdp.github.io/PythonDataScienceHandbook/00.00-preface.html\n"
     ]
    }
   ],
   "source": [
    "for link in soup.find_all('a'): print(link.get('href'))"
   ]
  },
  {
   "cell_type": "markdown",
   "metadata": {},
   "source": [
    "Retrieving strings by filtering with regular expressions"
   ]
  },
  {
   "cell_type": "code",
   "execution_count": 251,
   "metadata": {},
   "outputs": [
    {
     "data": {
      "text/plain": [
       "['Is for individuals who want to learn the language with the aim of using it as a tool for data-intensive and computational science']"
      ]
     },
     "execution_count": 251,
     "metadata": {},
     "output_type": "execute_result"
    }
   ],
   "source": [
    "soup.find_all(string=re.compile(\"data\"))"
   ]
  },
  {
   "cell_type": "markdown",
   "metadata": {},
   "source": [
    "# Getting data from Web"
   ]
  },
  {
   "cell_type": "code",
   "execution_count": 253,
   "metadata": {},
   "outputs": [],
   "source": [
    "from bs4 import BeautifulSoup\n",
    "import urllib\n",
    "import re"
   ]
  },
  {
   "cell_type": "code",
   "execution_count": 254,
   "metadata": {},
   "outputs": [],
   "source": [
    "r = urllib.request.urlopen('http://ygenc.github.io/lectures/cit201/bookrecomendation.html').read()\n",
    "soup = BeautifulSoup(r, \"html\")"
   ]
  },
  {
   "cell_type": "code",
   "execution_count": 256,
   "metadata": {},
   "outputs": [
    {
     "data": {
      "text/plain": [
       "<html><head><title>Best Books</title></head>\n",
       "<body>\n",
       "<p class=\"title\"><b>PYTHON DATA SCIENCE HANDBOOK</b></p>\n",
       "<p class=\"description\">\n",
       "\tThis review is for  <a href=\"http://shop.oreilly.com/product/0636920034919.do\">Python Data Science Handbook</a>  by Jake VanderPlas; the full text of the book and the content is available <a href=\"https://github.com/jakevdp/PythonDataScienceHandbook\">on GitHub</a>  in the form of Jupyter notebooks.\n",
       "\t\n",
       "\t</p><p>The text is released under the <a href=\"https://creativecommons.org/licenses/by-nc-nd/3.0/us/legalcode\">CC-BY-NC-ND license</a>, and code is released under the <a href=\"https://opensource.org/licenses/MIT\">MIT license</a>.</p>\n",
       "<p>If you find this content useful, please consider supporting the work by <a href=\"http://shop.oreilly.com/product/0636920034919.do\">buying the book</a>!</p>\n",
       "<br/><br/>\n",
       "This book:\n",
       "        <br/>\n",
       "<ul>\n",
       "<li>Is not meant to be an introduction to Python or to programming in general; I assume the reader has familiarity with the Python language, including defining functions, assigning variables, calling methods of objects, controlling the flow of a program, and other basic tasks.</li>\n",
       "<li>Is for individuals who want to learn the language with the aim of using it as a tool for data-intensive and computational science</li>\n",
       "<li>Focuses on a particular package or tool that contributes a fundamental piece of the Python Data Sciece story in each chapter</li>\n",
       "</ul>\n",
       "<br/><br/>\n",
       "What to do next:\n",
       "<br/>\n",
       "<p>Supplemental material (code examples, figures, etc.) is available for download at <a href=\"http://github.com/jakevdp/PythonDataScienceHandbook/\">http://github.com/jakevdp/PythonDataScienceHandbook/</a>. This book is here to help you get your job done. In general, if example code is offered with this book, you may use it in your programs and documentation. You do not need to contact us for permission unless you’re reproducing a significant portion of the code. For example, writing a program that uses several chunks of code from this book does not require permission. Selling or distributing a CD-ROM of examples from O’Reilly books does require permission. Answering a question by citing this book and quoting example code does not require permission. Incorporating a significant amount of example code from this book into your product’s documentation does require permission.</p>\n",
       "<p>If you feel your use of code examples falls outside fair use or the per‐ mission given above, feel free to contact us at permissions@oreilly.com</p>\n",
       "<p class=\"description\">Most of the text on this page is copied from <a href=\"https://jakevdp.github.io/PythonDataScienceHandbook/00.00-preface.html\" id=\"link 3\"> here</a> to create a sample html page for teaching purposes </p>\n",
       "</body>\n",
       "</html>"
      ]
     },
     "execution_count": 256,
     "metadata": {},
     "output_type": "execute_result"
    }
   ],
   "source": [
    "soup"
   ]
  },
  {
   "cell_type": "markdown",
   "metadata": {},
   "source": [
    "# Web Scraping another example"
   ]
  },
  {
   "cell_type": "code",
   "execution_count": null,
   "metadata": {},
   "outputs": [],
   "source": [
    "#! pip3 install urllib"
   ]
  },
  {
   "cell_type": "code",
   "execution_count": 193,
   "metadata": {},
   "outputs": [],
   "source": [
    "from bs4 import BeautifulSoup\n",
    "import urllib\n",
    "import re"
   ]
  },
  {
   "cell_type": "code",
   "execution_count": 257,
   "metadata": {},
   "outputs": [
    {
     "data": {
      "text/plain": [
       "bs4.BeautifulSoup"
      ]
     },
     "execution_count": 257,
     "metadata": {},
     "output_type": "execute_result"
    }
   ],
   "source": [
    "r = urllib.request.urlopen('https://analytics.usa.gov').read()\n",
    "soup = BeautifulSoup(r, \"html\")\n",
    "type(soup)"
   ]
  },
  {
   "cell_type": "markdown",
   "metadata": {},
   "source": [
    "Scraping a webpage and saving your results"
   ]
  },
  {
   "cell_type": "code",
   "execution_count": 258,
   "metadata": {},
   "outputs": [
    {
     "name": "stdout",
     "output_type": "stream",
     "text": [
      "<!DOCTYPE html>\n",
      "<html lang=\"en\">\n",
      " <!-- Initalize title and data source variables -->\n",
      " <head>\n",
      "  <!--\n",
      "\n"
     ]
    }
   ],
   "source": [
    "print(soup.prettify()[:100])"
   ]
  },
  {
   "cell_type": "code",
   "execution_count": 259,
   "metadata": {},
   "outputs": [
    {
     "name": "stdout",
     "output_type": "stream",
     "text": [
      "/\n",
      "#explanation\n",
      "https://analytics.usa.gov/data/\n",
      "https://open.gsa.gov/api/dap/\n",
      "data/\n",
      "#top-pages-realtime\n",
      "#top-pages-7-days\n",
      "#top-pages-30-days\n",
      "https://analytics.usa.gov/data/live/all-pages-realtime.csv\n",
      "https://analytics.usa.gov/data/live/all-domains-30-days.csv\n",
      "https://www.digitalgov.gov/services/dap/\n",
      "https://www.digitalgov.gov/services/dap/common-questions-about-dap-faq/#part-4\n",
      "https://support.google.com/analytics/answer/2763052?hl=en\n",
      "https://analytics.usa.gov/data/live/second-level-domains.csv\n",
      "https://analytics.usa.gov/data/live/sites.csv\n",
      "mailto:DAP@support.digitalgov.gov\n",
      "https://analytics.usa.gov/data/\n",
      "https://open.gsa.gov/api/dap/\n",
      "mailto:DAP@support.digitalgov.gov\n",
      "https://github.com/GSA/analytics.usa.gov/issues\n",
      "https://github.com/GSA/analytics.usa.gov\n",
      "https://github.com/18F/analytics-reporter\n",
      "http://www.gsa.gov/\n",
      "https://www.digitalgov.gov/services/dap/\n",
      "https://cloud.gov/\n"
     ]
    }
   ],
   "source": [
    "for link in soup.find_all('a'): print(link.get('href'))"
   ]
  },
  {
   "cell_type": "code",
   "execution_count": 260,
   "metadata": {},
   "outputs": [
    {
     "name": "stdout",
     "output_type": "stream",
     "text": [
      "<a href=\"https://analytics.usa.gov/data/\">Data</a>\n",
      "<a href=\"https://open.gsa.gov/api/dap/\" target=\"_blank\">API</a>\n",
      "<a href=\"https://analytics.usa.gov/data/live/all-pages-realtime.csv\">Download the full dataset.</a>\n",
      "<a href=\"https://analytics.usa.gov/data/live/all-domains-30-days.csv\">Download the full dataset.</a>\n",
      "<a class=\"external-link\" href=\"https://www.digitalgov.gov/services/dap/\">Digital Analytics Program</a>\n",
      "<a class=\"external-link\" href=\"https://www.digitalgov.gov/services/dap/common-questions-about-dap-faq/#part-4\">does not track individuals</a>\n",
      "<a class=\"external-link\" href=\"https://support.google.com/analytics/answer/2763052?hl=en\">anonymizes the IP addresses</a>\n",
      "<a class=\"external-link\" href=\"https://analytics.usa.gov/data/live/second-level-domains.csv\">400 executive branch government domains</a>\n",
      "<a class=\"external-link\" href=\"https://analytics.usa.gov/data/live/sites.csv\">about 5,700 total websites</a>\n",
      "<a href=\"https://analytics.usa.gov/data/\">download the data here.</a>\n",
      "<a href=\"https://open.gsa.gov/api/dap/\" target=\"_blank\"> API project</a>\n",
      "<a class=\"usa-button usa-button-secondary-inverse\" href=\"https://github.com/GSA/analytics.usa.gov/issues\">\n",
      "<img alt=\"Github Icon\" class=\"github-icon\" src=\"/images/github-logo-white.svg\"/>\n",
      "                  Suggest a feature or report an issue\n",
      "            </a>\n",
      "<a href=\"https://github.com/GSA/analytics.usa.gov\">\n",
      "<img alt=\"Github Icon\" class=\"github-icon\" src=\"/images/github-logo.svg\"/>\n",
      "              View our code on GitHub</a>\n",
      "<a href=\"https://github.com/18F/analytics-reporter\">\n",
      "<img alt=\"Github Icon\" class=\"github-icon\" src=\"/images/github-logo.svg\"/>\n",
      "              View our code for the data on GitHub</a>\n",
      "<a href=\"http://www.gsa.gov/\">\n",
      "<img alt=\"GSA\" src=\"/images/gsa-logo.svg\"/>\n",
      "</a>\n",
      "<a href=\"https://www.digitalgov.gov/services/dap/\">Digital Analytics Program</a>\n",
      "<a href=\"https://cloud.gov/\">cloud.gov</a>\n"
     ]
    }
   ],
   "source": [
    "for link in soup.findAll('a', attrs={'href': re.compile(\"^http\")}): print(link)"
   ]
  },
  {
   "cell_type": "code",
   "execution_count": 261,
   "metadata": {},
   "outputs": [
    {
     "name": "stdout",
     "output_type": "stream",
     "text": [
      "<a href=\"https://analytics.usa.gov/data/\">Data</a>\n",
      "<a href=\"https://open.gsa.gov/api/dap/\" target=\"_blank\">API</a>\n",
      "<a href=\"https://analytics.usa.gov/data/live/all-pages-realtime.csv\">Download the full dataset.</a>\n",
      "<a href=\"https://analytics.usa.gov/data/live/all-domains-30-days.csv\">Download the full dataset.</a>\n",
      "<a class=\"external-link\" href=\"https://www.digitalgov.gov/services/dap/\">Digital Analytics Program</a>\n",
      "<a class=\"external-link\" href=\"https://www.digitalgov.gov/services/dap/common-questions-about-dap-faq/#part-4\">does not track individuals</a>\n",
      "<a class=\"external-link\" href=\"https://support.google.com/analytics/answer/2763052?hl=en\">anonymizes the IP addresses</a>\n",
      "<a class=\"external-link\" href=\"https://analytics.usa.gov/data/live/second-level-domains.csv\">400 executive branch government domains</a>\n",
      "<a class=\"external-link\" href=\"https://analytics.usa.gov/data/live/sites.csv\">about 5,700 total websites</a>\n",
      "<a href=\"https://analytics.usa.gov/data/\">download the data here.</a>\n",
      "<a href=\"https://open.gsa.gov/api/dap/\" target=\"_blank\"> API project</a>\n",
      "<a class=\"usa-button usa-button-secondary-inverse\" href=\"https://github.com/GSA/analytics.usa.gov/issues\">\n",
      "<img alt=\"Github Icon\" class=\"github-icon\" src=\"/images/github-logo-white.svg\"/>\n",
      "                  Suggest a feature or report an issue\n",
      "            </a>\n",
      "<a href=\"https://github.com/GSA/analytics.usa.gov\">\n",
      "<img alt=\"Github Icon\" class=\"github-icon\" src=\"/images/github-logo.svg\"/>\n",
      "              View our code on GitHub</a>\n",
      "<a href=\"https://github.com/18F/analytics-reporter\">\n",
      "<img alt=\"Github Icon\" class=\"github-icon\" src=\"/images/github-logo.svg\"/>\n",
      "              View our code for the data on GitHub</a>\n",
      "<a href=\"http://www.gsa.gov/\">\n",
      "<img alt=\"GSA\" src=\"/images/gsa-logo.svg\"/>\n",
      "</a>\n",
      "<a href=\"https://www.digitalgov.gov/services/dap/\">Digital Analytics Program</a>\n",
      "<a href=\"https://cloud.gov/\">cloud.gov</a>\n"
     ]
    }
   ],
   "source": [
    "file = open('parsed_data.txt', 'w+')\n",
    "for link in soup.findAll('a', attrs={'href': re.compile(\"^http\")}):\n",
    "    #soup_link = str(link)\n",
    "    print(link)\n",
    "    file.write(soup_link)\n",
    "file.flush()\n",
    "file.close()"
   ]
  },
  {
   "cell_type": "code",
   "execution_count": 199,
   "metadata": {},
   "outputs": [
    {
     "data": {
      "text/plain": [
       "'/Users/yegingenc/Dropbox/Pace/Courses/CIT201/2019 Fall/_week10'"
      ]
     },
     "execution_count": 199,
     "metadata": {},
     "output_type": "execute_result"
    }
   ],
   "source": [
    "%pwd"
   ]
  },
  {
   "cell_type": "code",
   "execution_count": null,
   "metadata": {},
   "outputs": [],
   "source": []
  }
 ],
 "metadata": {
  "anaconda-cloud": {},
  "kernelspec": {
   "display_name": "Python 3",
   "language": "python",
   "name": "python3"
  },
  "language_info": {
   "codemirror_mode": {
    "name": "ipython",
    "version": 3
   },
   "file_extension": ".py",
   "mimetype": "text/x-python",
   "name": "python",
   "nbconvert_exporter": "python",
   "pygments_lexer": "ipython3",
   "version": "3.7.0"
  }
 },
 "nbformat": 4,
 "nbformat_minor": 1
}
