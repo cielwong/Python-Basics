{
 "cells": [
  {
   "cell_type": "markdown",
   "metadata": {},
   "source": [
    "-------------"
   ]
  },
  {
   "cell_type": "markdown",
   "metadata": {},
   "source": [
    "**1.** Using loops find how many characters there are in 'pneumonoultramicroscopicsilicovolcanoconiosis'? [It is a thing](https://upload.wikimedia.org/wikipedia/commons/4/4b/En-us-pneumonoultramicroscopicsilicovolcanoconiosis.ogg)  \n",
    "\n"
   ]
  },
  {
   "cell_type": "code",
   "execution_count": 4,
   "metadata": {},
   "outputs": [],
   "source": [
    "word= 'pneumonoultramicroscopicsilicovolcanoconiosis'"
   ]
  },
  {
   "cell_type": "code",
   "execution_count": 10,
   "metadata": {},
   "outputs": [
    {
     "name": "stdout",
     "output_type": "stream",
     "text": [
      "there are 45  in  pneumonoultramicroscopicsilicovolcanoconiosis\n"
     ]
    }
   ],
   "source": [
    "n_chars=0                                           # we initiate the total number of chars to be 0 in the begining\n",
    "\n",
    "for achar in word:                                  # definition of the loop \n",
    "    n_chars =  n_chars + 1                          # identify updates in every iteration  \n",
    "\n",
    "print('there are',n_chars, ' in ', word)    "
   ]
  },
  {
   "cell_type": "markdown",
   "metadata": {},
   "source": [
    "**2.** With a loop, find the index values of the 'o's  in pneumonoultramicroscopicsilicovolcanoconiosis ? The result should be [5, 7, 17, 20, 29, 31, 36, 38, 41]"
   ]
  },
  {
   "cell_type": "code",
   "execution_count": 9,
   "metadata": {},
   "outputs": [
    {
     "name": "stdout",
     "output_type": "stream",
     "text": [
      "[5, 7, 17, 20, 29, 31, 36, 38, 41]\n"
     ]
    }
   ],
   "source": [
    "i_of_o=[]\n",
    "index=0\n",
    "for a_letter in word:\n",
    "    if a_letter=='o':\n",
    "        i_of_o.append(index)\n",
    "    index +=1\n",
    "print(i_of_o)\n",
    "\n"
   ]
  },
  {
   "cell_type": "markdown",
   "metadata": {},
   "source": [
    "**3.** Write a program that adds values from 1 to n using for loop. You can check your answer by using the formula:  \n",
    " \n",
    " $$\\sum_{i=1}^{n}i=\\frac{n(n+1)}{2}$$"
   ]
  },
  {
   "cell_type": "code",
   "execution_count": 3,
   "metadata": {},
   "outputs": [],
   "source": [
    "n=10\n",
    "sumofnumbers=0\n",
    "for i in range(1,n+1):\n",
    "    sumofnumbers+=i"
   ]
  },
  {
   "cell_type": "markdown",
   "metadata": {},
   "source": [
    "**4**. Sample variance is the calculated from the sum of squared differences of each observation from the mean:\n",
    "\n",
    "$$\\text{variance}=\\frac{\\sum(x-mean)^2}{n-1}$$  \n",
    "\n",
    "where **mean** is the mean of our observations, **x** is each individual observation, and n is the number of observations.  \n",
    "\n",
    "First, we need to calculate the mean:  \n",
    "\n",
    "1. Create a *variable* total for the sum of the heights.  \n",
    "2. Using a *for* loop, add each height to *total*.  \n",
    "3. Find the mean by dividing this by the number of measurements, and store it as *mean*. \n",
    "\n",
    "**Note:** To get the number of things in a list, use *len(the_list)*.  \n",
    "\n",
    "Now we'll use another loop to calculate the variance:\n",
    "\n",
    "1. Create a variable sum_diffsq for the sum of squared differences.\n",
    "2. Make a second for loop over heights.\n",
    "   - At each step, subtract the height from the mean and call it diff.\n",
    "   - Square this and call it diffsq.\n",
    "   - Add diffsq on to sum_diffsq.\n",
    "3. Divide diffsq by n-1 to get the variance.\n",
    "4. Display the variance.\n",
    "\n"
   ]
  },
  {
   "cell_type": "code",
   "execution_count": 1,
   "metadata": {},
   "outputs": [
    {
     "name": "stdout",
     "output_type": "stream",
     "text": [
      "[160, 165, 170, 175, 180, 185]\n",
      "87.5\n"
     ]
    }
   ],
   "source": [
    "heights=list(range(160,190,5))\n",
    "print(heights)\n",
    "s_heights=0\n",
    "for height in heights:\n",
    "    s_heights+=height\n",
    "mean=s_heights/len(heights)\n",
    "\n",
    "sum_diff_s=0\n",
    "for height in heights:\n",
    "    sum_diff_s+=(height- mean)**2\n",
    "\n",
    "var=sum_diff_s/ (len(heights)- 1)\n",
    "print(var)"
   ]
  },
  {
   "cell_type": "markdown",
   "metadata": {},
   "source": [
    "**5.** What is the probability that you will get 7 when you roll 2 dice. Estimate it running a simulation"
   ]
  },
  {
   "cell_type": "code",
   "execution_count": 1,
   "metadata": {},
   "outputs": [],
   "source": [
    "import random"
   ]
  },
  {
   "cell_type": "code",
   "execution_count": 48,
   "metadata": {},
   "outputs": [
    {
     "data": {
      "text/plain": [
       "0.16702"
      ]
     },
     "execution_count": 48,
     "metadata": {},
     "output_type": "execute_result"
    }
   ],
   "source": [
    "number_of_rolls=100000\n",
    "seven_roll=0\n",
    "for i in range(number_of_rolls):\n",
    "    die1=random.randint(1,6)\n",
    "    die2=random.randint(1,6)\n",
    "    sum_=die1+die2\n",
    "    if sum_==7:\n",
    "        seven_roll += 1\n",
    "\n",
    "seven_roll/number_of_rolls"
   ]
  },
  {
   "cell_type": "code",
   "execution_count": 36,
   "metadata": {},
   "outputs": [
    {
     "data": {
      "text/plain": [
       "0.16666666666666666"
      ]
     },
     "execution_count": 36,
     "metadata": {},
     "output_type": "execute_result"
    }
   ],
   "source": []
  },
  {
   "cell_type": "code",
   "execution_count": null,
   "metadata": {},
   "outputs": [],
   "source": []
  },
  {
   "cell_type": "code",
   "execution_count": null,
   "metadata": {},
   "outputs": [],
   "source": []
  }
 ],
 "metadata": {
  "kernelspec": {
   "display_name": "Python 3",
   "language": "python",
   "name": "python3"
  },
  "language_info": {
   "codemirror_mode": {
    "name": "ipython",
    "version": 3
   },
   "file_extension": ".py",
   "mimetype": "text/x-python",
   "name": "python",
   "nbconvert_exporter": "python",
   "pygments_lexer": "ipython3",
   "version": "3.7.0"
  }
 },
 "nbformat": 4,
 "nbformat_minor": 2
}
