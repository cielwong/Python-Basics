{
 "cells": [
  {
   "cell_type": "markdown",
   "metadata": {},
   "source": [
    "### Assignment 2 "
   ]
  },
  {
   "cell_type": "markdown",
   "metadata": {},
   "source": [
    "### Part 1 (50 pts) \n",
    "Each question is 10 pts"
   ]
  },
  {
   "cell_type": "markdown",
   "metadata": {},
   "source": [
    "1- Sort the following the list. Hint: there is a \"sorted\" function for lists."
   ]
  },
  {
   "cell_type": "code",
   "execution_count": 2,
   "metadata": {},
   "outputs": [],
   "source": [
    "mylist= [3, 5, 7, 4, 8, 2, 1, 6, 9, 0]"
   ]
  },
  {
   "cell_type": "code",
   "execution_count": 3,
   "metadata": {},
   "outputs": [
    {
     "data": {
      "text/plain": [
       "[0, 1, 2, 3, 4, 5, 6, 7, 8, 9]"
      ]
     },
     "execution_count": 3,
     "metadata": {},
     "output_type": "execute_result"
    }
   ],
   "source": [
    "sorted(mylist)"
   ]
  },
  {
   "cell_type": "markdown",
   "metadata": {},
   "source": [
    "2 - Display the list in reverse order. Hint: there is a \"reversed\" function for lists"
   ]
  },
  {
   "cell_type": "code",
   "execution_count": 7,
   "metadata": {},
   "outputs": [
    {
     "data": {
      "text/plain": [
       "[0, 9, 6, 1, 2, 8, 4, 7, 5, 3]"
      ]
     },
     "execution_count": 7,
     "metadata": {},
     "output_type": "execute_result"
    }
   ],
   "source": [
    "list(reversed(mylist))"
   ]
  },
  {
   "cell_type": "markdown",
   "metadata": {},
   "source": [
    "3 - Create a new list by removing the highest 2 values and lowest 2 values from mylist"
   ]
  },
  {
   "cell_type": "code",
   "execution_count": 9,
   "metadata": {},
   "outputs": [],
   "source": [
    "new_list=sorted(mylist)"
   ]
  },
  {
   "cell_type": "code",
   "execution_count": 14,
   "metadata": {},
   "outputs": [
    {
     "data": {
      "text/plain": [
       "[2, 3, 4, 5, 6, 7]"
      ]
     },
     "execution_count": 14,
     "metadata": {},
     "output_type": "execute_result"
    }
   ],
   "source": [
    "filteredlist=new_list[2:-2]\n",
    "filteredlist"
   ]
  },
  {
   "cell_type": "markdown",
   "metadata": {},
   "source": [
    "4 - The average of the list is 4.5.  You can calculate this by sum(mylist)/len(mylist). Compelete the code below that generates a list of lists. The first sub list has all the values below average, and the next has the values above average."
   ]
  },
  {
   "cell_type": "code",
   "execution_count": null,
   "metadata": {},
   "outputs": [],
   "source": [
    "below_average=[]\n",
    "above_average=[]\n",
    "\n",
    "\n",
    "for a_value in mylist: \n",
    "    if  ...\n",
    "        above_alerage.append(...)\n",
    "    elif ...\n",
    "        below_aveage.append(...)\n",
    "    else ... \n",
    "    \n",
    "result=above_average + below_average"
   ]
  },
  {
   "cell_type": "code",
   "execution_count": 20,
   "metadata": {},
   "outputs": [
    {
     "data": {
      "text/plain": [
       "[5, 7, 8, 6, 9, 3, 4, 2, 1, 0]"
      ]
     },
     "execution_count": 20,
     "metadata": {},
     "output_type": "execute_result"
    }
   ],
   "source": [
    "below_average=[]\n",
    "above_average=[]\n",
    "\n",
    "mean=sum(mylist)/len(mylist) \n",
    "\n",
    "for a_value in mylist: \n",
    "    if  a_value > mean:\n",
    "        above_average.append(a_value)\n",
    "    elif a_value < mean:\n",
    "        below_average.append(a_value)\n",
    "    else :\n",
    "        continue\n",
    "    \n",
    "result=above_average + below_average"
   ]
  },
  {
   "cell_type": "markdown",
   "metadata": {},
   "source": [
    "5 - Convert the following list of words \"my_words\" to a unique set of words by removing the duplicates. You need to run the next chunk to generate my_words  "
   ]
  },
  {
   "cell_type": "code",
   "execution_count": 21,
   "metadata": {},
   "outputs": [],
   "source": [
    "my_paragraph='Data science is a concept to unify statistics, data analysis, machine learning and their related methods in order to understand and analyze actual phenomena with data. It employs techniques and theories drawn from many fields within the context of mathematics, statistics, information science, and computer science.'\n",
    "my_paragraph=my_paragraph.lower().replace(',','').replace('.','')\n",
    "my_words=my_paragraph.split()"
   ]
  },
  {
   "cell_type": "code",
   "execution_count": 22,
   "metadata": {},
   "outputs": [
    {
     "data": {
      "text/plain": [
       "['in',\n",
       " 'analyze',\n",
       " 'related',\n",
       " 'unify',\n",
       " 'and',\n",
       " 'with',\n",
       " 'is',\n",
       " 'analysis',\n",
       " 'techniques',\n",
       " 'the',\n",
       " 'data',\n",
       " 'of',\n",
       " 'concept',\n",
       " 'mathematics',\n",
       " 'science',\n",
       " 'order',\n",
       " 'employs',\n",
       " 'machine',\n",
       " 'learning',\n",
       " 'drawn',\n",
       " 'many',\n",
       " 'actual',\n",
       " 'a',\n",
       " 'theories',\n",
       " 'it',\n",
       " 'their',\n",
       " 'understand',\n",
       " 'methods',\n",
       " 'context',\n",
       " 'from',\n",
       " 'within',\n",
       " 'statistics',\n",
       " 'to',\n",
       " 'phenomena',\n",
       " 'information',\n",
       " 'computer',\n",
       " 'fields']"
      ]
     },
     "execution_count": 22,
     "metadata": {},
     "output_type": "execute_result"
    }
   ],
   "source": [
    "list(set(my_words))"
   ]
  },
  {
   "cell_type": "markdown",
   "metadata": {},
   "source": [
    "### Part 2  (50 pts)\n",
    "Complete 2 of the 3 questions"
   ]
  },
  {
   "cell_type": "code",
   "execution_count": 26,
   "metadata": {},
   "outputs": [],
   "source": [
    "my_dictionary={'cero':0, 'uno':1 , 'dos':2 , 'tres':3 , 'cuatro':4 , 'cinco':5 , 'seis':6 , 'siete':7 , 'ocho':8 , 'nueve':9 }"
   ]
  },
  {
   "cell_type": "markdown",
   "metadata": {},
   "source": [
    "1.  Using the dictionary above, create a program that constructs integer from a string input of digits written in Spanish. For example if the input is 'tres cinco uno' the output should be 351."
   ]
  },
  {
   "cell_type": "code",
   "execution_count": 27,
   "metadata": {},
   "outputs": [
    {
     "name": "stdout",
     "output_type": "stream",
     "text": [
      "351\n"
     ]
    }
   ],
   "source": [
    "in_spanish='tres cinco uno'.split()\n",
    "result=''\n",
    "for text in in_spanish: \n",
    "    number=my_dictionary[text]\n",
    "    result+=str(number)\n",
    "\n",
    "results=int(result)\n",
    "print(result)"
   ]
  },
  {
   "cell_type": "markdown",
   "metadata": {},
   "source": [
    "2 - Complete program below  that would reverse the dictionary above. The reversed_dictionary should print as :   \n",
    "    {0: 'cero', 1: 'uno', 2: 'dos', 3: 'tres', 4: 'cuatro', 5: 'cinco', 6: 'seis', 7: 'siete', 8: 'ocho', 9: 'nueve'}"
   ]
  },
  {
   "cell_type": "code",
   "execution_count": 28,
   "metadata": {},
   "outputs": [
    {
     "name": "stdout",
     "output_type": "stream",
     "text": [
      "{0: 'cero', 1: 'uno', 2: 'dos', 3: 'tres', 4: 'cuatro', 5: 'cinco', 6: 'seis', 7: 'siete', 8: 'ocho', 9: 'nueve'}\n"
     ]
    }
   ],
   "source": [
    "reversed_dict={}\n",
    "for key, value in my_dictionary.items():\n",
    "    reversed_dict[value]=key\n",
    "print(reversed_dict)"
   ]
  },
  {
   "cell_type": "code",
   "execution_count": null,
   "metadata": {},
   "outputs": [],
   "source": []
  },
  {
   "cell_type": "markdown",
   "metadata": {},
   "source": [
    "3 - Create a program that converts any input text to morse code based on the morse code table below. The program should leave a space between each sequence of dashes and dots for each character and 2 spaces between each word. "
   ]
  },
  {
   "cell_type": "code",
   "execution_count": 31,
   "metadata": {},
   "outputs": [],
   "source": [
    "MORSE_CODE_DICT = { 'A':'.-', 'B':'-...', \n",
    "                    'C':'-.-.', 'D':'-..', 'E':'.', \n",
    "                    'F':'..-.', 'G':'--.', 'H':'....', \n",
    "                    'I':'..', 'J':'.---', 'K':'-.-', \n",
    "                    'L':'.-..', 'M':'--', 'N':'-.', \n",
    "                    'O':'---', 'P':'.--.', 'Q':'--.-', \n",
    "                    'R':'.-.', 'S':'...', 'T':'-', \n",
    "                    'U':'..-', 'V':'...-', 'W':'.--', \n",
    "                    'X':'-..-', 'Y':'-.--', 'Z':'--..', \n",
    "                    '1':'.----', '2':'..---', '3':'...--', \n",
    "                    '4':'....-', '5':'.....', '6':'-....', \n",
    "                    '7':'--...', '8':'---..', '9':'----.', \n",
    "                    '0':'-----', ', ':'--..--', '.':'.-.-.-', \n",
    "                    '?':'..--..', '/':'-..-.', '-':'-....-', \n",
    "                    '(':'-.--.', ')':'-.--.-'} "
   ]
  },
  {
   "cell_type": "code",
   "execution_count": 32,
   "metadata": {},
   "outputs": [],
   "source": [
    "message=['--.', '.', '.', '-.-', '...', '-....-', '..-.', '---', '.-.', '-....-', '--.', '.', '.', '-.-', '...'] "
   ]
  },
  {
   "cell_type": "code",
   "execution_count": 33,
   "metadata": {},
   "outputs": [
    {
     "name": "stdout",
     "output_type": "stream",
     "text": [
      "GEEKS-FOR-GEEKS"
     ]
    }
   ],
   "source": [
    "decoder={}\n",
    "for val in MORSE_CODE_DICT:\n",
    "    code=MORSE_CODE_DICT[val]\n",
    "    decoder[code]=val\n",
    "\n",
    "for code in message:\n",
    "    print(decoder[code], end='')"
   ]
  },
  {
   "cell_type": "code",
   "execution_count": null,
   "metadata": {},
   "outputs": [],
   "source": []
  }
 ],
 "metadata": {
  "kernelspec": {
   "display_name": "Python 3",
   "language": "python",
   "name": "python3"
  },
  "language_info": {
   "codemirror_mode": {
    "name": "ipython",
    "version": 3
   },
   "file_extension": ".py",
   "mimetype": "text/x-python",
   "name": "python",
   "nbconvert_exporter": "python",
   "pygments_lexer": "ipython3",
   "version": "3.7.0"
  }
 },
 "nbformat": 4,
 "nbformat_minor": 2
}
